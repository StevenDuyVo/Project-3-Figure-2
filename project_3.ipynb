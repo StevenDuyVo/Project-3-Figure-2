{
 "cells": [
  {
   "cell_type": "code",
   "execution_count": 1,
   "metadata": {},
   "outputs": [],
   "source": [
    "from pymongo import MongoClient\n",
    "import plotly.express as px\n",
    "from pprint import pprint\n",
    "import numpy as np\n",
    "import matplotlib.pyplot as plt\n",
    "import pandas as pd\n"
   ]
  },
  {
   "cell_type": "code",
   "execution_count": 2,
   "metadata": {},
   "outputs": [],
   "source": [
    "mongo = MongoClient(port=27017)"
   ]
  },
  {
   "cell_type": "code",
   "execution_count": 3,
   "metadata": {},
   "outputs": [
    {
     "name": "stdout",
     "output_type": "stream",
     "text": [
      "['Spotify_2023', 'admin', 'autosaurus', 'classDB', 'config', 'local', 'met', 'uk_food']\n"
     ]
    }
   ],
   "source": [
    "print(mongo.list_database_names())"
   ]
  },
  {
   "cell_type": "code",
   "execution_count": 4,
   "metadata": {},
   "outputs": [],
   "source": [
    "db = mongo['Spotify_2023']\n"
   ]
  },
  {
   "cell_type": "code",
   "execution_count": 5,
   "metadata": {},
   "outputs": [
    {
     "name": "stdout",
     "output_type": "stream",
     "text": [
      "['Song_list']\n"
     ]
    }
   ],
   "source": [
    "print(db.list_collection_names())"
   ]
  },
  {
   "cell_type": "code",
   "execution_count": 6,
   "metadata": {},
   "outputs": [],
   "source": [
    "Most_Popular_Songs_2023 = db['Song_list']"
   ]
  },
  {
   "cell_type": "code",
   "execution_count": 7,
   "metadata": {},
   "outputs": [
    {
     "data": {
      "text/plain": [
       "{'_id': ObjectId('666b8730480d52d219eeeabd'),\n",
       " 'option': 'Seven (feat. Latto) (Explicit Ver.)',\n",
       " 'artist(s)_name': 'Latto, Jung Kook',\n",
       " 'artist_count': 2,\n",
       " 'released_year': 2023,\n",
       " 'released_month': 7,\n",
       " 'released_day': 14,\n",
       " 'in_spotify_playlists': 553,\n",
       " 'in_spotify_charts': 147,\n",
       " 'streams': 141381703,\n",
       " 'in_apple_playlists': 43,\n",
       " 'in_apple_charts': 263,\n",
       " 'in_deezer_playlists': 45,\n",
       " 'in_deezer_charts': 10,\n",
       " 'in_shazam_charts': 826,\n",
       " 'bpm': 125,\n",
       " 'key': 'B',\n",
       " 'mode': 'Major',\n",
       " 'danceability_%': 80,\n",
       " 'valence_%': 89,\n",
       " 'energy_%': 83,\n",
       " 'acousticness_%': 31,\n",
       " 'instrumentalness_%': 0,\n",
       " 'liveness_%': 8,\n",
       " 'speechiness_%': 4}"
      ]
     },
     "execution_count": 7,
     "metadata": {},
     "output_type": "execute_result"
    }
   ],
   "source": [
    "Most_Popular_Songs_2023.find_one()"
   ]
  },
  {
   "cell_type": "code",
   "execution_count": 54,
   "metadata": {},
   "outputs": [],
   "source": [
    "x = list(Most_Popular_Songs_2023.find().sort({'in_spotify_charts':-1}))\n",
    "y = list(Most_Popular_Songs_2023.find().sort({'streams':-1}))"
   ]
  },
  {
   "cell_type": "code",
   "execution_count": 65,
   "metadata": {},
   "outputs": [
    {
     "data": {
      "text/html": [
       "<div>\n",
       "<style scoped>\n",
       "    .dataframe tbody tr th:only-of-type {\n",
       "        vertical-align: middle;\n",
       "    }\n",
       "\n",
       "    .dataframe tbody tr th {\n",
       "        vertical-align: top;\n",
       "    }\n",
       "\n",
       "    .dataframe thead th {\n",
       "        text-align: right;\n",
       "    }\n",
       "</style>\n",
       "<table border=\"1\" class=\"dataframe\">\n",
       "  <thead>\n",
       "    <tr style=\"text-align: right;\">\n",
       "      <th></th>\n",
       "      <th>_id</th>\n",
       "      <th>song_name</th>\n",
       "      <th>artist(s)_name</th>\n",
       "      <th>artist_count</th>\n",
       "      <th>released_year</th>\n",
       "      <th>released_month</th>\n",
       "      <th>released_day</th>\n",
       "      <th>in_spotify_playlists</th>\n",
       "      <th>in_spotify_charts</th>\n",
       "      <th>streams</th>\n",
       "      <th>...</th>\n",
       "      <th>bpm</th>\n",
       "      <th>key</th>\n",
       "      <th>mode</th>\n",
       "      <th>danceability_%</th>\n",
       "      <th>valence_%</th>\n",
       "      <th>energy_%</th>\n",
       "      <th>acousticness_%</th>\n",
       "      <th>instrumentalness_%</th>\n",
       "      <th>liveness_%</th>\n",
       "      <th>speechiness_%</th>\n",
       "    </tr>\n",
       "  </thead>\n",
       "  <tbody>\n",
       "    <tr>\n",
       "      <th>0</th>\n",
       "      <td>666b8730480d52d219eeeabd</td>\n",
       "      <td>Seven (feat. Latto) (Explicit Ver.)</td>\n",
       "      <td>Latto, Jung Kook</td>\n",
       "      <td>2</td>\n",
       "      <td>2023</td>\n",
       "      <td>7</td>\n",
       "      <td>14</td>\n",
       "      <td>553</td>\n",
       "      <td>147</td>\n",
       "      <td>141381703</td>\n",
       "      <td>...</td>\n",
       "      <td>125</td>\n",
       "      <td>B</td>\n",
       "      <td>Major</td>\n",
       "      <td>80</td>\n",
       "      <td>89</td>\n",
       "      <td>83</td>\n",
       "      <td>31</td>\n",
       "      <td>0</td>\n",
       "      <td>8</td>\n",
       "      <td>4</td>\n",
       "    </tr>\n",
       "    <tr>\n",
       "      <th>1</th>\n",
       "      <td>666b8730480d52d219eeeacb</td>\n",
       "      <td>As It Was</td>\n",
       "      <td>Harry Styles</td>\n",
       "      <td>1</td>\n",
       "      <td>2022</td>\n",
       "      <td>3</td>\n",
       "      <td>31</td>\n",
       "      <td>23575</td>\n",
       "      <td>130</td>\n",
       "      <td>2513188493</td>\n",
       "      <td>...</td>\n",
       "      <td>174</td>\n",
       "      <td>F#</td>\n",
       "      <td>Minor</td>\n",
       "      <td>52</td>\n",
       "      <td>66</td>\n",
       "      <td>73</td>\n",
       "      <td>34</td>\n",
       "      <td>0</td>\n",
       "      <td>31</td>\n",
       "      <td>6</td>\n",
       "    </tr>\n",
       "    <tr>\n",
       "      <th>2</th>\n",
       "      <td>666b8730480d52d219eeeac9</td>\n",
       "      <td>Flowers</td>\n",
       "      <td>Miley Cyrus</td>\n",
       "      <td>1</td>\n",
       "      <td>2023</td>\n",
       "      <td>1</td>\n",
       "      <td>12</td>\n",
       "      <td>12211</td>\n",
       "      <td>115</td>\n",
       "      <td>1316855716</td>\n",
       "      <td>...</td>\n",
       "      <td>118</td>\n",
       "      <td>NaN</td>\n",
       "      <td>Major</td>\n",
       "      <td>71</td>\n",
       "      <td>65</td>\n",
       "      <td>68</td>\n",
       "      <td>6</td>\n",
       "      <td>0</td>\n",
       "      <td>3</td>\n",
       "      <td>7</td>\n",
       "    </tr>\n",
       "    <tr>\n",
       "      <th>3</th>\n",
       "      <td>666b8730480d52d219eeeabf</td>\n",
       "      <td>vampire</td>\n",
       "      <td>Olivia Rodrigo</td>\n",
       "      <td>1</td>\n",
       "      <td>2023</td>\n",
       "      <td>6</td>\n",
       "      <td>30</td>\n",
       "      <td>1397</td>\n",
       "      <td>113</td>\n",
       "      <td>140003974</td>\n",
       "      <td>...</td>\n",
       "      <td>138</td>\n",
       "      <td>F</td>\n",
       "      <td>Major</td>\n",
       "      <td>51</td>\n",
       "      <td>32</td>\n",
       "      <td>53</td>\n",
       "      <td>17</td>\n",
       "      <td>0</td>\n",
       "      <td>31</td>\n",
       "      <td>6</td>\n",
       "    </tr>\n",
       "    <tr>\n",
       "      <th>4</th>\n",
       "      <td>666b8730480d52d219eeead3</td>\n",
       "      <td>I Wanna Be Yours</td>\n",
       "      <td>Arctic Monkeys</td>\n",
       "      <td>1</td>\n",
       "      <td>2013</td>\n",
       "      <td>1</td>\n",
       "      <td>1</td>\n",
       "      <td>12859</td>\n",
       "      <td>110</td>\n",
       "      <td>1297026226</td>\n",
       "      <td>...</td>\n",
       "      <td>135</td>\n",
       "      <td>NaN</td>\n",
       "      <td>Minor</td>\n",
       "      <td>48</td>\n",
       "      <td>44</td>\n",
       "      <td>42</td>\n",
       "      <td>12</td>\n",
       "      <td>2</td>\n",
       "      <td>11</td>\n",
       "      <td>3</td>\n",
       "    </tr>\n",
       "    <tr>\n",
       "      <th>5</th>\n",
       "      <td>666b8730480d52d219eeeace</td>\n",
       "      <td>What Was I Made For? [From The Motion Picture ...</td>\n",
       "      <td>Billie Eilish</td>\n",
       "      <td>1</td>\n",
       "      <td>2023</td>\n",
       "      <td>7</td>\n",
       "      <td>13</td>\n",
       "      <td>873</td>\n",
       "      <td>104</td>\n",
       "      <td>30546883</td>\n",
       "      <td>...</td>\n",
       "      <td>78</td>\n",
       "      <td>NaN</td>\n",
       "      <td>Major</td>\n",
       "      <td>44</td>\n",
       "      <td>14</td>\n",
       "      <td>9</td>\n",
       "      <td>96</td>\n",
       "      <td>0</td>\n",
       "      <td>10</td>\n",
       "      <td>3</td>\n",
       "    </tr>\n",
       "    <tr>\n",
       "      <th>6</th>\n",
       "      <td>666b8730480d52d219eeeada</td>\n",
       "      <td>Dance The Night (From Barbie The Album)</td>\n",
       "      <td>Dua Lipa</td>\n",
       "      <td>1</td>\n",
       "      <td>2023</td>\n",
       "      <td>5</td>\n",
       "      <td>25</td>\n",
       "      <td>2988</td>\n",
       "      <td>101</td>\n",
       "      <td>127408954</td>\n",
       "      <td>...</td>\n",
       "      <td>110</td>\n",
       "      <td>B</td>\n",
       "      <td>Minor</td>\n",
       "      <td>67</td>\n",
       "      <td>78</td>\n",
       "      <td>85</td>\n",
       "      <td>2</td>\n",
       "      <td>0</td>\n",
       "      <td>33</td>\n",
       "      <td>5</td>\n",
       "    </tr>\n",
       "    <tr>\n",
       "      <th>7</th>\n",
       "      <td>666b8730480d52d219eeeac0</td>\n",
       "      <td>Cruel Summer</td>\n",
       "      <td>Taylor Swift</td>\n",
       "      <td>1</td>\n",
       "      <td>2019</td>\n",
       "      <td>8</td>\n",
       "      <td>23</td>\n",
       "      <td>7858</td>\n",
       "      <td>100</td>\n",
       "      <td>800840817</td>\n",
       "      <td>...</td>\n",
       "      <td>170</td>\n",
       "      <td>A</td>\n",
       "      <td>Major</td>\n",
       "      <td>55</td>\n",
       "      <td>58</td>\n",
       "      <td>72</td>\n",
       "      <td>11</td>\n",
       "      <td>0</td>\n",
       "      <td>11</td>\n",
       "      <td>15</td>\n",
       "    </tr>\n",
       "    <tr>\n",
       "      <th>8</th>\n",
       "      <td>666b8730480d52d219eeeaca</td>\n",
       "      <td>Daylight</td>\n",
       "      <td>David Kushner</td>\n",
       "      <td>1</td>\n",
       "      <td>2023</td>\n",
       "      <td>4</td>\n",
       "      <td>14</td>\n",
       "      <td>3528</td>\n",
       "      <td>98</td>\n",
       "      <td>387570742</td>\n",
       "      <td>...</td>\n",
       "      <td>130</td>\n",
       "      <td>D</td>\n",
       "      <td>Minor</td>\n",
       "      <td>51</td>\n",
       "      <td>32</td>\n",
       "      <td>43</td>\n",
       "      <td>83</td>\n",
       "      <td>0</td>\n",
       "      <td>9</td>\n",
       "      <td>3</td>\n",
       "    </tr>\n",
       "    <tr>\n",
       "      <th>9</th>\n",
       "      <td>666b8730480d52d219eeeac2</td>\n",
       "      <td>Sprinter</td>\n",
       "      <td>Dave, Central Cee</td>\n",
       "      <td>2</td>\n",
       "      <td>2023</td>\n",
       "      <td>6</td>\n",
       "      <td>1</td>\n",
       "      <td>2186</td>\n",
       "      <td>91</td>\n",
       "      <td>183706234</td>\n",
       "      <td>...</td>\n",
       "      <td>141</td>\n",
       "      <td>C#</td>\n",
       "      <td>Major</td>\n",
       "      <td>92</td>\n",
       "      <td>66</td>\n",
       "      <td>58</td>\n",
       "      <td>19</td>\n",
       "      <td>0</td>\n",
       "      <td>8</td>\n",
       "      <td>24</td>\n",
       "    </tr>\n",
       "  </tbody>\n",
       "</table>\n",
       "<p>10 rows × 25 columns</p>\n",
       "</div>"
      ],
      "text/plain": [
       "                        _id  \\\n",
       "0  666b8730480d52d219eeeabd   \n",
       "1  666b8730480d52d219eeeacb   \n",
       "2  666b8730480d52d219eeeac9   \n",
       "3  666b8730480d52d219eeeabf   \n",
       "4  666b8730480d52d219eeead3   \n",
       "5  666b8730480d52d219eeeace   \n",
       "6  666b8730480d52d219eeeada   \n",
       "7  666b8730480d52d219eeeac0   \n",
       "8  666b8730480d52d219eeeaca   \n",
       "9  666b8730480d52d219eeeac2   \n",
       "\n",
       "                                           song_name     artist(s)_name  \\\n",
       "0                Seven (feat. Latto) (Explicit Ver.)   Latto, Jung Kook   \n",
       "1                                          As It Was       Harry Styles   \n",
       "2                                            Flowers        Miley Cyrus   \n",
       "3                                            vampire     Olivia Rodrigo   \n",
       "4                                   I Wanna Be Yours     Arctic Monkeys   \n",
       "5  What Was I Made For? [From The Motion Picture ...      Billie Eilish   \n",
       "6            Dance The Night (From Barbie The Album)           Dua Lipa   \n",
       "7                                       Cruel Summer       Taylor Swift   \n",
       "8                                           Daylight      David Kushner   \n",
       "9                                           Sprinter  Dave, Central Cee   \n",
       "\n",
       "   artist_count  released_year  released_month  released_day  \\\n",
       "0             2           2023               7            14   \n",
       "1             1           2022               3            31   \n",
       "2             1           2023               1            12   \n",
       "3             1           2023               6            30   \n",
       "4             1           2013               1             1   \n",
       "5             1           2023               7            13   \n",
       "6             1           2023               5            25   \n",
       "7             1           2019               8            23   \n",
       "8             1           2023               4            14   \n",
       "9             2           2023               6             1   \n",
       "\n",
       "   in_spotify_playlists  in_spotify_charts     streams  ...  bpm  key   mode  \\\n",
       "0                   553                147   141381703  ...  125    B  Major   \n",
       "1                 23575                130  2513188493  ...  174   F#  Minor   \n",
       "2                 12211                115  1316855716  ...  118  NaN  Major   \n",
       "3                  1397                113   140003974  ...  138    F  Major   \n",
       "4                 12859                110  1297026226  ...  135  NaN  Minor   \n",
       "5                   873                104    30546883  ...   78  NaN  Major   \n",
       "6                  2988                101   127408954  ...  110    B  Minor   \n",
       "7                  7858                100   800840817  ...  170    A  Major   \n",
       "8                  3528                 98   387570742  ...  130    D  Minor   \n",
       "9                  2186                 91   183706234  ...  141   C#  Major   \n",
       "\n",
       "   danceability_% valence_%  energy_% acousticness_% instrumentalness_%  \\\n",
       "0              80        89        83             31                  0   \n",
       "1              52        66        73             34                  0   \n",
       "2              71        65        68              6                  0   \n",
       "3              51        32        53             17                  0   \n",
       "4              48        44        42             12                  2   \n",
       "5              44        14         9             96                  0   \n",
       "6              67        78        85              2                  0   \n",
       "7              55        58        72             11                  0   \n",
       "8              51        32        43             83                  0   \n",
       "9              92        66        58             19                  0   \n",
       "\n",
       "   liveness_%  speechiness_%  \n",
       "0           8              4  \n",
       "1          31              6  \n",
       "2           3              7  \n",
       "3          31              6  \n",
       "4          11              3  \n",
       "5          10              3  \n",
       "6          33              5  \n",
       "7          11             15  \n",
       "8           9              3  \n",
       "9           8             24  \n",
       "\n",
       "[10 rows x 25 columns]"
      ]
     },
     "execution_count": 65,
     "metadata": {},
     "output_type": "execute_result"
    }
   ],
   "source": [
    "df_Spotify = pd.DataFrame(x)\n",
    "df_Spotify = df_Spotify.rename(columns={'option':'song_name'})\n",
    "df_Spotify.head(10)"
   ]
  },
  {
   "cell_type": "code",
   "execution_count": 63,
   "metadata": {},
   "outputs": [
    {
     "name": "stdout",
     "output_type": "stream",
     "text": [
      "mode\n",
      "Major    550\n",
      "Minor    403\n",
      "Name: count, dtype: int64\n"
     ]
    }
   ],
   "source": [
    "count_major_minor = df_Spotify['mode'].value_counts()[['Major', 'Minor']]"
   ]
  },
  {
   "cell_type": "code",
   "execution_count": 114,
   "metadata": {},
   "outputs": [
    {
     "data": {
      "text/plain": [
       "artist(s)_name\n",
       "Taylor Swift             34\n",
       "The Weeknd               22\n",
       "SZA                      19\n",
       "Bad Bunny                19\n",
       "Harry Styles             17\n",
       "                         ..\n",
       "TAEYANG, Lisa             1\n",
       "Lizzy McAlpine            1\n",
       "Ana Castela, AgroPlay     1\n",
       "Mc Livinho, DJ Matt D     1\n",
       "Feid, Sech, Jhayco        1\n",
       "Name: count, Length: 645, dtype: int64"
      ]
     },
     "execution_count": 114,
     "metadata": {},
     "output_type": "execute_result"
    }
   ],
   "source": [
    "artist_counts = df_Spotify['artist(s)_name'].value_counts()\n",
    "artist_counts"
   ]
  },
  {
   "cell_type": "code",
   "execution_count": 10,
   "metadata": {},
   "outputs": [
    {
     "data": {
      "text/plain": [
       "[39]"
      ]
     },
     "execution_count": 10,
     "metadata": {},
     "output_type": "execute_result"
    }
   ],
   "source": [
    "# Find the row number of the song with inaccurate information\n",
    "correction_value1 = \"Riptide\"\n",
    "row_number1 = df_Spotify.index[df_Spotify['song_name'] == correction_value1].tolist()\n",
    "row_number1"
   ]
  },
  {
   "cell_type": "code",
   "execution_count": 11,
   "metadata": {},
   "outputs": [
    {
     "data": {
      "text/plain": [
       "2013"
      ]
     },
     "execution_count": 11,
     "metadata": {},
     "output_type": "execute_result"
    }
   ],
   "source": [
    "df_Spotify.iat[39, 3] = 2013\n",
    "df_Spotify.iat[39, 3]"
   ]
  },
  {
   "cell_type": "code",
   "execution_count": 12,
   "metadata": {},
   "outputs": [
    {
     "data": {
      "text/plain": [
       "[703]"
      ]
     },
     "execution_count": 12,
     "metadata": {},
     "output_type": "execute_result"
    }
   ],
   "source": [
    "# Find the row number of the song with inaccurate information\n",
    "correction_value2 = \"Love Grows (Where My Rosemary Goes)\"\n",
    "row_number2 = df_Spotify.index[df_Spotify['song_name'] == correction_value2].tolist()\n",
    "row_number2"
   ]
  },
  {
   "cell_type": "code",
   "execution_count": 13,
   "metadata": {},
   "outputs": [
    {
     "data": {
      "text/plain": [
       "255230973"
      ]
     },
     "execution_count": 13,
     "metadata": {},
     "output_type": "execute_result"
    }
   ],
   "source": [
    "df_Spotify.iat[703, 8] = 255230973\n",
    "df_Spotify.iat[703, 8]"
   ]
  },
  {
   "cell_type": "code",
   "execution_count": 14,
   "metadata": {},
   "outputs": [
    {
     "data": {
      "text/plain": [
       "[]"
      ]
     },
     "execution_count": 14,
     "metadata": {},
     "output_type": "execute_result"
    }
   ],
   "source": [
    "# Find the row number of the song with inaccurate information\n",
    "correction_value3 = \"Styrx, utku INC, Thezth\"\n",
    "row_number3 = df_Spotify.index[df_Spotify['artist(s)_name'] == correction_value1].tolist()\n",
    "row_number3"
   ]
  },
  {
   "cell_type": "code",
   "execution_count": 15,
   "metadata": {},
   "outputs": [
    {
     "data": {
      "text/plain": [
       "2022"
      ]
     },
     "execution_count": 15,
     "metadata": {},
     "output_type": "execute_result"
    }
   ],
   "source": [
    "df_Spotify.iat[603, 8] = 2022\n",
    "df_Spotify.iat[603, 8]"
   ]
  },
  {
   "cell_type": "code",
   "execution_count": 77,
   "metadata": {},
   "outputs": [
    {
     "data": {
      "text/html": [
       "<div>\n",
       "<style scoped>\n",
       "    .dataframe tbody tr th:only-of-type {\n",
       "        vertical-align: middle;\n",
       "    }\n",
       "\n",
       "    .dataframe tbody tr th {\n",
       "        vertical-align: top;\n",
       "    }\n",
       "\n",
       "    .dataframe thead th {\n",
       "        text-align: right;\n",
       "    }\n",
       "</style>\n",
       "<table border=\"1\" class=\"dataframe\">\n",
       "  <thead>\n",
       "    <tr style=\"text-align: right;\">\n",
       "      <th></th>\n",
       "      <th>song_name</th>\n",
       "      <th>artist(s)_name</th>\n",
       "      <th>released_year</th>\n",
       "      <th>released_month</th>\n",
       "      <th>released_day</th>\n",
       "      <th>in_spotify_charts</th>\n",
       "      <th>streams</th>\n",
       "      <th>in_apple_charts</th>\n",
       "      <th>in_deezer_charts</th>\n",
       "      <th>in_shazam_charts</th>\n",
       "      <th>bpm</th>\n",
       "      <th>key</th>\n",
       "      <th>mode</th>\n",
       "    </tr>\n",
       "  </thead>\n",
       "  <tbody>\n",
       "    <tr>\n",
       "      <th>0</th>\n",
       "      <td>Seven (feat. Latto) (Explicit Ver.)</td>\n",
       "      <td>Latto, Jung Kook</td>\n",
       "      <td>2023</td>\n",
       "      <td>7</td>\n",
       "      <td>14</td>\n",
       "      <td>147</td>\n",
       "      <td>141381703</td>\n",
       "      <td>263</td>\n",
       "      <td>10</td>\n",
       "      <td>826</td>\n",
       "      <td>125</td>\n",
       "      <td>B</td>\n",
       "      <td>Major</td>\n",
       "    </tr>\n",
       "    <tr>\n",
       "      <th>1</th>\n",
       "      <td>As It Was</td>\n",
       "      <td>Harry Styles</td>\n",
       "      <td>2022</td>\n",
       "      <td>3</td>\n",
       "      <td>31</td>\n",
       "      <td>130</td>\n",
       "      <td>2513188493</td>\n",
       "      <td>198</td>\n",
       "      <td>46</td>\n",
       "      <td>NaN</td>\n",
       "      <td>174</td>\n",
       "      <td>F#</td>\n",
       "      <td>Minor</td>\n",
       "    </tr>\n",
       "    <tr>\n",
       "      <th>2</th>\n",
       "      <td>Flowers</td>\n",
       "      <td>Miley Cyrus</td>\n",
       "      <td>2023</td>\n",
       "      <td>1</td>\n",
       "      <td>12</td>\n",
       "      <td>115</td>\n",
       "      <td>1316855716</td>\n",
       "      <td>215</td>\n",
       "      <td>58</td>\n",
       "      <td>1,021</td>\n",
       "      <td>118</td>\n",
       "      <td>NaN</td>\n",
       "      <td>Major</td>\n",
       "    </tr>\n",
       "    <tr>\n",
       "      <th>3</th>\n",
       "      <td>vampire</td>\n",
       "      <td>Olivia Rodrigo</td>\n",
       "      <td>2023</td>\n",
       "      <td>6</td>\n",
       "      <td>30</td>\n",
       "      <td>113</td>\n",
       "      <td>140003974</td>\n",
       "      <td>207</td>\n",
       "      <td>14</td>\n",
       "      <td>949</td>\n",
       "      <td>138</td>\n",
       "      <td>F</td>\n",
       "      <td>Major</td>\n",
       "    </tr>\n",
       "    <tr>\n",
       "      <th>4</th>\n",
       "      <td>I Wanna Be Yours</td>\n",
       "      <td>Arctic Monkeys</td>\n",
       "      <td>2013</td>\n",
       "      <td>1</td>\n",
       "      <td>1</td>\n",
       "      <td>110</td>\n",
       "      <td>1297026226</td>\n",
       "      <td>98</td>\n",
       "      <td>2</td>\n",
       "      <td>73</td>\n",
       "      <td>135</td>\n",
       "      <td>NaN</td>\n",
       "      <td>Minor</td>\n",
       "    </tr>\n",
       "  </tbody>\n",
       "</table>\n",
       "</div>"
      ],
      "text/plain": [
       "                             song_name    artist(s)_name  released_year  \\\n",
       "0  Seven (feat. Latto) (Explicit Ver.)  Latto, Jung Kook           2023   \n",
       "1                            As It Was      Harry Styles           2022   \n",
       "2                              Flowers       Miley Cyrus           2023   \n",
       "3                              vampire    Olivia Rodrigo           2023   \n",
       "4                     I Wanna Be Yours    Arctic Monkeys           2013   \n",
       "\n",
       "   released_month  released_day in_spotify_charts     streams in_apple_charts  \\\n",
       "0               7            14               147   141381703             263   \n",
       "1               3            31               130  2513188493             198   \n",
       "2               1            12               115  1316855716             215   \n",
       "3               6            30               113   140003974             207   \n",
       "4               1             1               110  1297026226              98   \n",
       "\n",
       "  in_deezer_charts in_shazam_charts  bpm  key   mode  \n",
       "0               10              826  125    B  Major  \n",
       "1               46              NaN  174   F#  Minor  \n",
       "2               58            1,021  118  NaN  Major  \n",
       "3               14              949  138    F  Major  \n",
       "4                2               73  135  NaN  Minor  "
      ]
     },
     "execution_count": 77,
     "metadata": {},
     "output_type": "execute_result"
    }
   ],
   "source": [
    "df_streaming_charts = df_Spotify.drop(columns=[\"danceability_%\",\"valence_%\",\"energy_%\",\"acousticness_%\",\"instrumentalness_%\",\"liveness_%\",\"speechiness_%\",\"_id\", \"in_apple_playlists\", \"in_deezer_playlists\", \"artist_count\", \"in_spotify_playlists\"])\n",
    "df_streaming_charts.head()"
   ]
  },
  {
   "cell_type": "code",
   "execution_count": 142,
   "metadata": {},
   "outputs": [],
   "source": [
    "df_Spotify_2 = df_Spotify.head(10)"
   ]
  },
  {
   "cell_type": "code",
   "execution_count": 136,
   "metadata": {},
   "outputs": [
    {
     "data": {
      "application/vnd.plotly.v1+json": {
       "config": {
        "plotlyServerURL": "https://plot.ly"
       },
       "data": [
        {
         "alignmentgroup": "True",
         "hovertemplate": "song_name=%{x}<br>count=%{y}<extra></extra>",
         "legendgroup": "",
         "marker": {
          "color": "#636efa",
          "pattern": {
           "shape": ""
          }
         },
         "name": "",
         "offsetgroup": "",
         "orientation": "v",
         "showlegend": false,
         "textposition": "auto",
         "type": "bar",
         "x": [
          "Seven (feat. Latto) (Explicit Ver.)",
          "As It Was",
          "Flowers",
          "vampire",
          "I Wanna Be Yours",
          "What Was I Made For? [From The Motion Picture \"Barbie\"]",
          "Dance The Night (From Barbie The Album)",
          "Cruel Summer",
          "Daylight",
          "Sprinter"
         ],
         "xaxis": "x",
         "y": [
          1,
          1,
          1,
          1,
          1,
          1,
          1,
          1,
          1,
          1
         ],
         "yaxis": "y"
        }
       ],
       "layout": {
        "barmode": "group",
        "legend": {
         "tracegroupgap": 0
        },
        "template": {
         "data": {
          "bar": [
           {
            "error_x": {
             "color": "#2a3f5f"
            },
            "error_y": {
             "color": "#2a3f5f"
            },
            "marker": {
             "line": {
              "color": "#E5ECF6",
              "width": 0.5
             },
             "pattern": {
              "fillmode": "overlay",
              "size": 10,
              "solidity": 0.2
             }
            },
            "type": "bar"
           }
          ],
          "barpolar": [
           {
            "marker": {
             "line": {
              "color": "#E5ECF6",
              "width": 0.5
             },
             "pattern": {
              "fillmode": "overlay",
              "size": 10,
              "solidity": 0.2
             }
            },
            "type": "barpolar"
           }
          ],
          "carpet": [
           {
            "aaxis": {
             "endlinecolor": "#2a3f5f",
             "gridcolor": "white",
             "linecolor": "white",
             "minorgridcolor": "white",
             "startlinecolor": "#2a3f5f"
            },
            "baxis": {
             "endlinecolor": "#2a3f5f",
             "gridcolor": "white",
             "linecolor": "white",
             "minorgridcolor": "white",
             "startlinecolor": "#2a3f5f"
            },
            "type": "carpet"
           }
          ],
          "choropleth": [
           {
            "colorbar": {
             "outlinewidth": 0,
             "ticks": ""
            },
            "type": "choropleth"
           }
          ],
          "contour": [
           {
            "colorbar": {
             "outlinewidth": 0,
             "ticks": ""
            },
            "colorscale": [
             [
              0,
              "#0d0887"
             ],
             [
              0.1111111111111111,
              "#46039f"
             ],
             [
              0.2222222222222222,
              "#7201a8"
             ],
             [
              0.3333333333333333,
              "#9c179e"
             ],
             [
              0.4444444444444444,
              "#bd3786"
             ],
             [
              0.5555555555555556,
              "#d8576b"
             ],
             [
              0.6666666666666666,
              "#ed7953"
             ],
             [
              0.7777777777777778,
              "#fb9f3a"
             ],
             [
              0.8888888888888888,
              "#fdca26"
             ],
             [
              1,
              "#f0f921"
             ]
            ],
            "type": "contour"
           }
          ],
          "contourcarpet": [
           {
            "colorbar": {
             "outlinewidth": 0,
             "ticks": ""
            },
            "type": "contourcarpet"
           }
          ],
          "heatmap": [
           {
            "colorbar": {
             "outlinewidth": 0,
             "ticks": ""
            },
            "colorscale": [
             [
              0,
              "#0d0887"
             ],
             [
              0.1111111111111111,
              "#46039f"
             ],
             [
              0.2222222222222222,
              "#7201a8"
             ],
             [
              0.3333333333333333,
              "#9c179e"
             ],
             [
              0.4444444444444444,
              "#bd3786"
             ],
             [
              0.5555555555555556,
              "#d8576b"
             ],
             [
              0.6666666666666666,
              "#ed7953"
             ],
             [
              0.7777777777777778,
              "#fb9f3a"
             ],
             [
              0.8888888888888888,
              "#fdca26"
             ],
             [
              1,
              "#f0f921"
             ]
            ],
            "type": "heatmap"
           }
          ],
          "heatmapgl": [
           {
            "colorbar": {
             "outlinewidth": 0,
             "ticks": ""
            },
            "colorscale": [
             [
              0,
              "#0d0887"
             ],
             [
              0.1111111111111111,
              "#46039f"
             ],
             [
              0.2222222222222222,
              "#7201a8"
             ],
             [
              0.3333333333333333,
              "#9c179e"
             ],
             [
              0.4444444444444444,
              "#bd3786"
             ],
             [
              0.5555555555555556,
              "#d8576b"
             ],
             [
              0.6666666666666666,
              "#ed7953"
             ],
             [
              0.7777777777777778,
              "#fb9f3a"
             ],
             [
              0.8888888888888888,
              "#fdca26"
             ],
             [
              1,
              "#f0f921"
             ]
            ],
            "type": "heatmapgl"
           }
          ],
          "histogram": [
           {
            "marker": {
             "pattern": {
              "fillmode": "overlay",
              "size": 10,
              "solidity": 0.2
             }
            },
            "type": "histogram"
           }
          ],
          "histogram2d": [
           {
            "colorbar": {
             "outlinewidth": 0,
             "ticks": ""
            },
            "colorscale": [
             [
              0,
              "#0d0887"
             ],
             [
              0.1111111111111111,
              "#46039f"
             ],
             [
              0.2222222222222222,
              "#7201a8"
             ],
             [
              0.3333333333333333,
              "#9c179e"
             ],
             [
              0.4444444444444444,
              "#bd3786"
             ],
             [
              0.5555555555555556,
              "#d8576b"
             ],
             [
              0.6666666666666666,
              "#ed7953"
             ],
             [
              0.7777777777777778,
              "#fb9f3a"
             ],
             [
              0.8888888888888888,
              "#fdca26"
             ],
             [
              1,
              "#f0f921"
             ]
            ],
            "type": "histogram2d"
           }
          ],
          "histogram2dcontour": [
           {
            "colorbar": {
             "outlinewidth": 0,
             "ticks": ""
            },
            "colorscale": [
             [
              0,
              "#0d0887"
             ],
             [
              0.1111111111111111,
              "#46039f"
             ],
             [
              0.2222222222222222,
              "#7201a8"
             ],
             [
              0.3333333333333333,
              "#9c179e"
             ],
             [
              0.4444444444444444,
              "#bd3786"
             ],
             [
              0.5555555555555556,
              "#d8576b"
             ],
             [
              0.6666666666666666,
              "#ed7953"
             ],
             [
              0.7777777777777778,
              "#fb9f3a"
             ],
             [
              0.8888888888888888,
              "#fdca26"
             ],
             [
              1,
              "#f0f921"
             ]
            ],
            "type": "histogram2dcontour"
           }
          ],
          "mesh3d": [
           {
            "colorbar": {
             "outlinewidth": 0,
             "ticks": ""
            },
            "type": "mesh3d"
           }
          ],
          "parcoords": [
           {
            "line": {
             "colorbar": {
              "outlinewidth": 0,
              "ticks": ""
             }
            },
            "type": "parcoords"
           }
          ],
          "pie": [
           {
            "automargin": true,
            "type": "pie"
           }
          ],
          "scatter": [
           {
            "fillpattern": {
             "fillmode": "overlay",
             "size": 10,
             "solidity": 0.2
            },
            "type": "scatter"
           }
          ],
          "scatter3d": [
           {
            "line": {
             "colorbar": {
              "outlinewidth": 0,
              "ticks": ""
             }
            },
            "marker": {
             "colorbar": {
              "outlinewidth": 0,
              "ticks": ""
             }
            },
            "type": "scatter3d"
           }
          ],
          "scattercarpet": [
           {
            "marker": {
             "colorbar": {
              "outlinewidth": 0,
              "ticks": ""
             }
            },
            "type": "scattercarpet"
           }
          ],
          "scattergeo": [
           {
            "marker": {
             "colorbar": {
              "outlinewidth": 0,
              "ticks": ""
             }
            },
            "type": "scattergeo"
           }
          ],
          "scattergl": [
           {
            "marker": {
             "colorbar": {
              "outlinewidth": 0,
              "ticks": ""
             }
            },
            "type": "scattergl"
           }
          ],
          "scattermapbox": [
           {
            "marker": {
             "colorbar": {
              "outlinewidth": 0,
              "ticks": ""
             }
            },
            "type": "scattermapbox"
           }
          ],
          "scatterpolar": [
           {
            "marker": {
             "colorbar": {
              "outlinewidth": 0,
              "ticks": ""
             }
            },
            "type": "scatterpolar"
           }
          ],
          "scatterpolargl": [
           {
            "marker": {
             "colorbar": {
              "outlinewidth": 0,
              "ticks": ""
             }
            },
            "type": "scatterpolargl"
           }
          ],
          "scatterternary": [
           {
            "marker": {
             "colorbar": {
              "outlinewidth": 0,
              "ticks": ""
             }
            },
            "type": "scatterternary"
           }
          ],
          "surface": [
           {
            "colorbar": {
             "outlinewidth": 0,
             "ticks": ""
            },
            "colorscale": [
             [
              0,
              "#0d0887"
             ],
             [
              0.1111111111111111,
              "#46039f"
             ],
             [
              0.2222222222222222,
              "#7201a8"
             ],
             [
              0.3333333333333333,
              "#9c179e"
             ],
             [
              0.4444444444444444,
              "#bd3786"
             ],
             [
              0.5555555555555556,
              "#d8576b"
             ],
             [
              0.6666666666666666,
              "#ed7953"
             ],
             [
              0.7777777777777778,
              "#fb9f3a"
             ],
             [
              0.8888888888888888,
              "#fdca26"
             ],
             [
              1,
              "#f0f921"
             ]
            ],
            "type": "surface"
           }
          ],
          "table": [
           {
            "cells": {
             "fill": {
              "color": "#EBF0F8"
             },
             "line": {
              "color": "white"
             }
            },
            "header": {
             "fill": {
              "color": "#C8D4E3"
             },
             "line": {
              "color": "white"
             }
            },
            "type": "table"
           }
          ]
         },
         "layout": {
          "annotationdefaults": {
           "arrowcolor": "#2a3f5f",
           "arrowhead": 0,
           "arrowwidth": 1
          },
          "autotypenumbers": "strict",
          "coloraxis": {
           "colorbar": {
            "outlinewidth": 0,
            "ticks": ""
           }
          },
          "colorscale": {
           "diverging": [
            [
             0,
             "#8e0152"
            ],
            [
             0.1,
             "#c51b7d"
            ],
            [
             0.2,
             "#de77ae"
            ],
            [
             0.3,
             "#f1b6da"
            ],
            [
             0.4,
             "#fde0ef"
            ],
            [
             0.5,
             "#f7f7f7"
            ],
            [
             0.6,
             "#e6f5d0"
            ],
            [
             0.7,
             "#b8e186"
            ],
            [
             0.8,
             "#7fbc41"
            ],
            [
             0.9,
             "#4d9221"
            ],
            [
             1,
             "#276419"
            ]
           ],
           "sequential": [
            [
             0,
             "#0d0887"
            ],
            [
             0.1111111111111111,
             "#46039f"
            ],
            [
             0.2222222222222222,
             "#7201a8"
            ],
            [
             0.3333333333333333,
             "#9c179e"
            ],
            [
             0.4444444444444444,
             "#bd3786"
            ],
            [
             0.5555555555555556,
             "#d8576b"
            ],
            [
             0.6666666666666666,
             "#ed7953"
            ],
            [
             0.7777777777777778,
             "#fb9f3a"
            ],
            [
             0.8888888888888888,
             "#fdca26"
            ],
            [
             1,
             "#f0f921"
            ]
           ],
           "sequentialminus": [
            [
             0,
             "#0d0887"
            ],
            [
             0.1111111111111111,
             "#46039f"
            ],
            [
             0.2222222222222222,
             "#7201a8"
            ],
            [
             0.3333333333333333,
             "#9c179e"
            ],
            [
             0.4444444444444444,
             "#bd3786"
            ],
            [
             0.5555555555555556,
             "#d8576b"
            ],
            [
             0.6666666666666666,
             "#ed7953"
            ],
            [
             0.7777777777777778,
             "#fb9f3a"
            ],
            [
             0.8888888888888888,
             "#fdca26"
            ],
            [
             1,
             "#f0f921"
            ]
           ]
          },
          "colorway": [
           "#636efa",
           "#EF553B",
           "#00cc96",
           "#ab63fa",
           "#FFA15A",
           "#19d3f3",
           "#FF6692",
           "#B6E880",
           "#FF97FF",
           "#FECB52"
          ],
          "font": {
           "color": "#2a3f5f"
          },
          "geo": {
           "bgcolor": "white",
           "lakecolor": "white",
           "landcolor": "#E5ECF6",
           "showlakes": true,
           "showland": true,
           "subunitcolor": "white"
          },
          "hoverlabel": {
           "align": "left"
          },
          "hovermode": "closest",
          "mapbox": {
           "style": "light"
          },
          "paper_bgcolor": "white",
          "plot_bgcolor": "#E5ECF6",
          "polar": {
           "angularaxis": {
            "gridcolor": "white",
            "linecolor": "white",
            "ticks": ""
           },
           "bgcolor": "#E5ECF6",
           "radialaxis": {
            "gridcolor": "white",
            "linecolor": "white",
            "ticks": ""
           }
          },
          "scene": {
           "xaxis": {
            "backgroundcolor": "#E5ECF6",
            "gridcolor": "white",
            "gridwidth": 2,
            "linecolor": "white",
            "showbackground": true,
            "ticks": "",
            "zerolinecolor": "white"
           },
           "yaxis": {
            "backgroundcolor": "#E5ECF6",
            "gridcolor": "white",
            "gridwidth": 2,
            "linecolor": "white",
            "showbackground": true,
            "ticks": "",
            "zerolinecolor": "white"
           },
           "zaxis": {
            "backgroundcolor": "#E5ECF6",
            "gridcolor": "white",
            "gridwidth": 2,
            "linecolor": "white",
            "showbackground": true,
            "ticks": "",
            "zerolinecolor": "white"
           }
          },
          "shapedefaults": {
           "line": {
            "color": "#2a3f5f"
           }
          },
          "ternary": {
           "aaxis": {
            "gridcolor": "white",
            "linecolor": "white",
            "ticks": ""
           },
           "baxis": {
            "gridcolor": "white",
            "linecolor": "white",
            "ticks": ""
           },
           "bgcolor": "#E5ECF6",
           "caxis": {
            "gridcolor": "white",
            "linecolor": "white",
            "ticks": ""
           }
          },
          "title": {
           "x": 0.05
          },
          "xaxis": {
           "automargin": true,
           "gridcolor": "white",
           "linecolor": "white",
           "ticks": "",
           "title": {
            "standoff": 15
           },
           "zerolinecolor": "white",
           "zerolinewidth": 2
          },
          "yaxis": {
           "automargin": true,
           "gridcolor": "white",
           "linecolor": "white",
           "ticks": "",
           "title": {
            "standoff": 15
           },
           "zerolinecolor": "white",
           "zerolinewidth": 2
          }
         }
        },
        "title": {
         "text": "Song Attribute Analysis"
        },
        "updatemenus": [
         {
          "buttons": [
           {
            "args": [
             {
              "title": "danceability_%",
              "x": [
               [
                "Seven (feat. Latto) (Explicit Ver.)",
                "As It Was",
                "Flowers",
                "vampire",
                "I Wanna Be Yours",
                "What Was I Made For? [From The Motion Picture \"Barbie\"]",
                "Dance The Night (From Barbie The Album)",
                "Cruel Summer",
                "Daylight",
                "Sprinter"
               ]
              ],
              "y": [
               [
                80,
                52,
                71,
                51,
                48,
                44,
                67,
                55,
                51,
                92
               ]
              ]
             }
            ],
            "label": "Danceability",
            "method": "update"
           },
           {
            "args": [
             {
              "title": "valence_%",
              "x": [
               [
                "Seven (feat. Latto) (Explicit Ver.)",
                "As It Was",
                "Flowers",
                "vampire",
                "I Wanna Be Yours",
                "What Was I Made For? [From The Motion Picture \"Barbie\"]",
                "Dance The Night (From Barbie The Album)",
                "Cruel Summer",
                "Daylight",
                "Sprinter"
               ]
              ],
              "y": [
               [
                89,
                66,
                65,
                32,
                44,
                14,
                78,
                58,
                32,
                66
               ]
              ]
             }
            ],
            "label": "Valence",
            "method": "update"
           },
           {
            "args": [
             {
              "title": "energy_%",
              "x": [
               [
                "Seven (feat. Latto) (Explicit Ver.)",
                "As It Was",
                "Flowers",
                "vampire",
                "I Wanna Be Yours",
                "What Was I Made For? [From The Motion Picture \"Barbie\"]",
                "Dance The Night (From Barbie The Album)",
                "Cruel Summer",
                "Daylight",
                "Sprinter"
               ]
              ],
              "y": [
               [
                83,
                73,
                68,
                53,
                42,
                9,
                85,
                72,
                43,
                58
               ]
              ]
             }
            ],
            "label": "Energy",
            "method": "update"
           },
           {
            "args": [
             {
              "title": "acousticness_%",
              "x": [
               [
                "Seven (feat. Latto) (Explicit Ver.)",
                "As It Was",
                "Flowers",
                "vampire",
                "I Wanna Be Yours",
                "What Was I Made For? [From The Motion Picture \"Barbie\"]",
                "Dance The Night (From Barbie The Album)",
                "Cruel Summer",
                "Daylight",
                "Sprinter"
               ]
              ],
              "y": [
               [
                31,
                34,
                6,
                17,
                12,
                96,
                2,
                11,
                83,
                19
               ]
              ]
             }
            ],
            "label": "Acousticness",
            "method": "update"
           },
           {
            "args": [
             {
              "title": "instrumentalness_%",
              "x": [
               [
                "Seven (feat. Latto) (Explicit Ver.)",
                "As It Was",
                "Flowers",
                "vampire",
                "I Wanna Be Yours",
                "What Was I Made For? [From The Motion Picture \"Barbie\"]",
                "Dance The Night (From Barbie The Album)",
                "Cruel Summer",
                "Daylight",
                "Sprinter"
               ]
              ],
              "y": [
               [
                0,
                0,
                0,
                0,
                2,
                0,
                0,
                0,
                0,
                0
               ]
              ]
             }
            ],
            "label": "Instrumentalness",
            "method": "update"
           },
           {
            "args": [
             {
              "title": "liveness_%",
              "x": [
               [
                "Seven (feat. Latto) (Explicit Ver.)",
                "As It Was",
                "Flowers",
                "vampire",
                "I Wanna Be Yours",
                "What Was I Made For? [From The Motion Picture \"Barbie\"]",
                "Dance The Night (From Barbie The Album)",
                "Cruel Summer",
                "Daylight",
                "Sprinter"
               ]
              ],
              "y": [
               [
                8,
                31,
                3,
                31,
                11,
                10,
                33,
                11,
                9,
                8
               ]
              ]
             }
            ],
            "label": "Liveness",
            "method": "update"
           },
           {
            "args": [
             {
              "title": "speechiness_%",
              "x": [
               [
                "Seven (feat. Latto) (Explicit Ver.)",
                "As It Was",
                "Flowers",
                "vampire",
                "I Wanna Be Yours",
                "What Was I Made For? [From The Motion Picture \"Barbie\"]",
                "Dance The Night (From Barbie The Album)",
                "Cruel Summer",
                "Daylight",
                "Sprinter"
               ]
              ],
              "y": [
               [
                4,
                6,
                7,
                6,
                3,
                3,
                5,
                15,
                3,
                24
               ]
              ]
             }
            ],
            "label": "Speechiness",
            "method": "update"
           }
          ]
         }
        ],
        "xaxis": {
         "anchor": "y",
         "domain": [
          0,
          1
         ],
         "title": {
          "text": "song_name"
         }
        },
        "yaxis": {
         "anchor": "x",
         "domain": [
          0,
          1
         ],
         "title": {
          "text": "score"
         }
        }
       }
      }
     },
     "metadata": {},
     "output_type": "display_data"
    }
   ],
   "source": [
    "fig = px.bar(df_Spotify_2, x='song_name', barmode='group', title='Song Attribute Analysis', labels={'x':'song_name'})\n",
    "\n",
    "# Update the layout to add dropdown menu for switching between different criteria\n",
    "fig.update_layout(\n",
    "    yaxis = {'title':'score'},\n",
    "    updatemenus=[\n",
    "        {\n",
    "            'buttons': [\n",
    "                {\n",
    "                    'label': 'Danceability',\n",
    "                    'method': 'update',\n",
    "                    'args': [{'y': [df_Spotify_2['danceability_%']],'x': [df_Spotify_2['song_name']], 'title': 'danceability_%'}]\n",
    "                },\n",
    "                {\n",
    "                    'label': 'Valence',\n",
    "                    'method': 'update',\n",
    "                    'args': [{'y': [df_Spotify_2['valence_%']], 'x': [df_Spotify_2['song_name']], 'title': 'valence_%'}]\n",
    "                },\n",
    "                {\n",
    "                    'label': 'Energy',\n",
    "                    'method': 'update',\n",
    "                    'args': [{'y': [df_Spotify_2['energy_%']], 'x': [df_Spotify_2['song_name']], 'title': 'energy_%'}]\n",
    "                },\n",
    "                {\n",
    "                    'label': 'Acousticness',\n",
    "                    'method': 'update',\n",
    "                    'args': [{'y': [df_Spotify_2['acousticness_%']], 'x': [df_Spotify_2['song_name']], 'title': 'acousticness_%'}]\n",
    "                },\n",
    "                {\n",
    "                    'label': 'Instrumentalness',\n",
    "                    'method': 'update',\n",
    "                    'args': [{'y': [df_Spotify_2['instrumentalness_%']], 'x': [df_Spotify_2['song_name']], 'title': 'instrumentalness_%'}]\n",
    "                },\n",
    "                {\n",
    "                    'label': 'Liveness',\n",
    "                    'method': 'update',\n",
    "                    'args': [{'y': [df_Spotify_2['liveness_%']], 'x': [df_Spotify_2['song_name']], 'title': 'liveness_%'}]\n",
    "                },\n",
    "                {\n",
    "                    'label': 'Speechiness',\n",
    "                    'method': 'update',\n",
    "                    'args': [{'y': [df_Spotify_2['speechiness_%']], 'x': [df_Spotify_2['song_name']], 'title': 'speechiness_%'}]\n",
    "                }\n",
    "            ]\n",
    "        }\n",
    "    ]\n",
    ")\n",
    "fig.show()"
   ]
  },
  {
   "cell_type": "code",
   "execution_count": 129,
   "metadata": {},
   "outputs": [],
   "source": [
    "# fig = px.bar(df_Spotify_2, x='song_name', barmode='group', title='Song Popularity Metrics', text=df_Spotify_2['song_name'])\n",
    "\n",
    "# # Update the layout to add dropdown menu for switching between different criteria\n",
    "# fig.update_layout(\n",
    "#     yaxis = {'title':'score'},\n",
    "#     updatemenus=[\n",
    "#         {\n",
    "#             'buttons': [\n",
    "#                 {\n",
    "#                     'label': 'Danceability',\n",
    "#                     'method': 'update',\n",
    "#                     'args': [{'y': [df_Spotify_2['danceability_%']],'x': [df_Spotify_2['song_name']]}]\n",
    "#                 },\n",
    "#                 {\n",
    "#                     'label': 'Valence',\n",
    "#                     'method': 'update',\n",
    "#                     'args': [{'y': [df_Spotify_2['valence_%']], 'x': [df_Spotify_2['song_name']]}]\n",
    "#                 },\n",
    "#                 {\n",
    "#                     'label': 'Energy',\n",
    "#                     'method': 'update',\n",
    "#                     'args': [{'y': [df_Spotify_2['energy_%']], 'x': [df_Spotify_2['song_name']]}]\n",
    "#                 },\n",
    "#                 {\n",
    "#                     'label': 'Acousticness',\n",
    "#                     'method': 'update',\n",
    "#                     'args': [{'y': [df_Spotify_2['acousticness_%']], 'x': [df_Spotify_2['song_name']]}]\n",
    "#                 },\n",
    "#                 {\n",
    "#                     'label': 'Instrumentalness',\n",
    "#                     'method': 'update',\n",
    "#                     'args': [{'y': [df_Spotify_2['instrumentalness_%']], 'x': [df_Spotify_2['song_name']]}]\n",
    "#                 },\n",
    "#                 {\n",
    "#                     'label': 'Liveness',\n",
    "#                     'method': 'update',\n",
    "#                     'args': [{'y': [df_Spotify_2['liveness_%']], 'x': [df_Spotify_2['song_name']]}]\n",
    "#                 },\n",
    "#                 {\n",
    "#                     'label': 'Speechiness',\n",
    "#                     'method': 'update',\n",
    "#                     'args': [{'y': [df_Spotify_2['speechiness_%']], 'x': [df_Spotify_2['song_name']]}]\n",
    "#                 }\n",
    "#             ]\n",
    "#         }\n",
    "#     ]\n",
    "# )\n",
    "# fig.show()"
   ]
  },
  {
   "cell_type": "code",
   "execution_count": null,
   "metadata": {},
   "outputs": [],
   "source": [
    "#(create the same graph above but apply apple, spotify, and deezer charts to the buttons)\n",
    "# remove.head from graphs, as we can use html to zoom in"
   ]
  },
  {
   "cell_type": "code",
   "execution_count": 147,
   "metadata": {},
   "outputs": [
    {
     "data": {
      "application/vnd.plotly.v1+json": {
       "config": {
        "plotlyServerURL": "https://plot.ly"
       },
       "data": [
        {
         "alignmentgroup": "True",
         "hovertemplate": "song_name=%{x}<br>streams=%{y}<extra></extra>",
         "legendgroup": "",
         "marker": {
          "color": "#636efa",
          "pattern": {
           "shape": ""
          }
         },
         "name": "",
         "offsetgroup": "",
         "orientation": "v",
         "showlegend": false,
         "textposition": "auto",
         "type": "bar",
         "x": [
          "As It Was",
          "Flowers",
          "I Wanna Be Yours",
          "Cruel Summer",
          "Daylight",
          "Sprinter",
          "Seven (feat. Latto) (Explicit Ver.)",
          "vampire",
          "Dance The Night (From Barbie The Album)",
          "What Was I Made For? [From The Motion Picture \"Barbie\"]"
         ],
         "xaxis": "x",
         "y": [
          2513188493,
          1316855716,
          1297026226,
          800840817,
          387570742,
          183706234,
          141381703,
          140003974,
          127408954,
          30546883
         ],
         "yaxis": "y"
        }
       ],
       "layout": {
        "barmode": "group",
        "legend": {
         "tracegroupgap": 0
        },
        "template": {
         "data": {
          "bar": [
           {
            "error_x": {
             "color": "#2a3f5f"
            },
            "error_y": {
             "color": "#2a3f5f"
            },
            "marker": {
             "line": {
              "color": "#E5ECF6",
              "width": 0.5
             },
             "pattern": {
              "fillmode": "overlay",
              "size": 10,
              "solidity": 0.2
             }
            },
            "type": "bar"
           }
          ],
          "barpolar": [
           {
            "marker": {
             "line": {
              "color": "#E5ECF6",
              "width": 0.5
             },
             "pattern": {
              "fillmode": "overlay",
              "size": 10,
              "solidity": 0.2
             }
            },
            "type": "barpolar"
           }
          ],
          "carpet": [
           {
            "aaxis": {
             "endlinecolor": "#2a3f5f",
             "gridcolor": "white",
             "linecolor": "white",
             "minorgridcolor": "white",
             "startlinecolor": "#2a3f5f"
            },
            "baxis": {
             "endlinecolor": "#2a3f5f",
             "gridcolor": "white",
             "linecolor": "white",
             "minorgridcolor": "white",
             "startlinecolor": "#2a3f5f"
            },
            "type": "carpet"
           }
          ],
          "choropleth": [
           {
            "colorbar": {
             "outlinewidth": 0,
             "ticks": ""
            },
            "type": "choropleth"
           }
          ],
          "contour": [
           {
            "colorbar": {
             "outlinewidth": 0,
             "ticks": ""
            },
            "colorscale": [
             [
              0,
              "#0d0887"
             ],
             [
              0.1111111111111111,
              "#46039f"
             ],
             [
              0.2222222222222222,
              "#7201a8"
             ],
             [
              0.3333333333333333,
              "#9c179e"
             ],
             [
              0.4444444444444444,
              "#bd3786"
             ],
             [
              0.5555555555555556,
              "#d8576b"
             ],
             [
              0.6666666666666666,
              "#ed7953"
             ],
             [
              0.7777777777777778,
              "#fb9f3a"
             ],
             [
              0.8888888888888888,
              "#fdca26"
             ],
             [
              1,
              "#f0f921"
             ]
            ],
            "type": "contour"
           }
          ],
          "contourcarpet": [
           {
            "colorbar": {
             "outlinewidth": 0,
             "ticks": ""
            },
            "type": "contourcarpet"
           }
          ],
          "heatmap": [
           {
            "colorbar": {
             "outlinewidth": 0,
             "ticks": ""
            },
            "colorscale": [
             [
              0,
              "#0d0887"
             ],
             [
              0.1111111111111111,
              "#46039f"
             ],
             [
              0.2222222222222222,
              "#7201a8"
             ],
             [
              0.3333333333333333,
              "#9c179e"
             ],
             [
              0.4444444444444444,
              "#bd3786"
             ],
             [
              0.5555555555555556,
              "#d8576b"
             ],
             [
              0.6666666666666666,
              "#ed7953"
             ],
             [
              0.7777777777777778,
              "#fb9f3a"
             ],
             [
              0.8888888888888888,
              "#fdca26"
             ],
             [
              1,
              "#f0f921"
             ]
            ],
            "type": "heatmap"
           }
          ],
          "heatmapgl": [
           {
            "colorbar": {
             "outlinewidth": 0,
             "ticks": ""
            },
            "colorscale": [
             [
              0,
              "#0d0887"
             ],
             [
              0.1111111111111111,
              "#46039f"
             ],
             [
              0.2222222222222222,
              "#7201a8"
             ],
             [
              0.3333333333333333,
              "#9c179e"
             ],
             [
              0.4444444444444444,
              "#bd3786"
             ],
             [
              0.5555555555555556,
              "#d8576b"
             ],
             [
              0.6666666666666666,
              "#ed7953"
             ],
             [
              0.7777777777777778,
              "#fb9f3a"
             ],
             [
              0.8888888888888888,
              "#fdca26"
             ],
             [
              1,
              "#f0f921"
             ]
            ],
            "type": "heatmapgl"
           }
          ],
          "histogram": [
           {
            "marker": {
             "pattern": {
              "fillmode": "overlay",
              "size": 10,
              "solidity": 0.2
             }
            },
            "type": "histogram"
           }
          ],
          "histogram2d": [
           {
            "colorbar": {
             "outlinewidth": 0,
             "ticks": ""
            },
            "colorscale": [
             [
              0,
              "#0d0887"
             ],
             [
              0.1111111111111111,
              "#46039f"
             ],
             [
              0.2222222222222222,
              "#7201a8"
             ],
             [
              0.3333333333333333,
              "#9c179e"
             ],
             [
              0.4444444444444444,
              "#bd3786"
             ],
             [
              0.5555555555555556,
              "#d8576b"
             ],
             [
              0.6666666666666666,
              "#ed7953"
             ],
             [
              0.7777777777777778,
              "#fb9f3a"
             ],
             [
              0.8888888888888888,
              "#fdca26"
             ],
             [
              1,
              "#f0f921"
             ]
            ],
            "type": "histogram2d"
           }
          ],
          "histogram2dcontour": [
           {
            "colorbar": {
             "outlinewidth": 0,
             "ticks": ""
            },
            "colorscale": [
             [
              0,
              "#0d0887"
             ],
             [
              0.1111111111111111,
              "#46039f"
             ],
             [
              0.2222222222222222,
              "#7201a8"
             ],
             [
              0.3333333333333333,
              "#9c179e"
             ],
             [
              0.4444444444444444,
              "#bd3786"
             ],
             [
              0.5555555555555556,
              "#d8576b"
             ],
             [
              0.6666666666666666,
              "#ed7953"
             ],
             [
              0.7777777777777778,
              "#fb9f3a"
             ],
             [
              0.8888888888888888,
              "#fdca26"
             ],
             [
              1,
              "#f0f921"
             ]
            ],
            "type": "histogram2dcontour"
           }
          ],
          "mesh3d": [
           {
            "colorbar": {
             "outlinewidth": 0,
             "ticks": ""
            },
            "type": "mesh3d"
           }
          ],
          "parcoords": [
           {
            "line": {
             "colorbar": {
              "outlinewidth": 0,
              "ticks": ""
             }
            },
            "type": "parcoords"
           }
          ],
          "pie": [
           {
            "automargin": true,
            "type": "pie"
           }
          ],
          "scatter": [
           {
            "fillpattern": {
             "fillmode": "overlay",
             "size": 10,
             "solidity": 0.2
            },
            "type": "scatter"
           }
          ],
          "scatter3d": [
           {
            "line": {
             "colorbar": {
              "outlinewidth": 0,
              "ticks": ""
             }
            },
            "marker": {
             "colorbar": {
              "outlinewidth": 0,
              "ticks": ""
             }
            },
            "type": "scatter3d"
           }
          ],
          "scattercarpet": [
           {
            "marker": {
             "colorbar": {
              "outlinewidth": 0,
              "ticks": ""
             }
            },
            "type": "scattercarpet"
           }
          ],
          "scattergeo": [
           {
            "marker": {
             "colorbar": {
              "outlinewidth": 0,
              "ticks": ""
             }
            },
            "type": "scattergeo"
           }
          ],
          "scattergl": [
           {
            "marker": {
             "colorbar": {
              "outlinewidth": 0,
              "ticks": ""
             }
            },
            "type": "scattergl"
           }
          ],
          "scattermapbox": [
           {
            "marker": {
             "colorbar": {
              "outlinewidth": 0,
              "ticks": ""
             }
            },
            "type": "scattermapbox"
           }
          ],
          "scatterpolar": [
           {
            "marker": {
             "colorbar": {
              "outlinewidth": 0,
              "ticks": ""
             }
            },
            "type": "scatterpolar"
           }
          ],
          "scatterpolargl": [
           {
            "marker": {
             "colorbar": {
              "outlinewidth": 0,
              "ticks": ""
             }
            },
            "type": "scatterpolargl"
           }
          ],
          "scatterternary": [
           {
            "marker": {
             "colorbar": {
              "outlinewidth": 0,
              "ticks": ""
             }
            },
            "type": "scatterternary"
           }
          ],
          "surface": [
           {
            "colorbar": {
             "outlinewidth": 0,
             "ticks": ""
            },
            "colorscale": [
             [
              0,
              "#0d0887"
             ],
             [
              0.1111111111111111,
              "#46039f"
             ],
             [
              0.2222222222222222,
              "#7201a8"
             ],
             [
              0.3333333333333333,
              "#9c179e"
             ],
             [
              0.4444444444444444,
              "#bd3786"
             ],
             [
              0.5555555555555556,
              "#d8576b"
             ],
             [
              0.6666666666666666,
              "#ed7953"
             ],
             [
              0.7777777777777778,
              "#fb9f3a"
             ],
             [
              0.8888888888888888,
              "#fdca26"
             ],
             [
              1,
              "#f0f921"
             ]
            ],
            "type": "surface"
           }
          ],
          "table": [
           {
            "cells": {
             "fill": {
              "color": "#EBF0F8"
             },
             "line": {
              "color": "white"
             }
            },
            "header": {
             "fill": {
              "color": "#C8D4E3"
             },
             "line": {
              "color": "white"
             }
            },
            "type": "table"
           }
          ]
         },
         "layout": {
          "annotationdefaults": {
           "arrowcolor": "#2a3f5f",
           "arrowhead": 0,
           "arrowwidth": 1
          },
          "autotypenumbers": "strict",
          "coloraxis": {
           "colorbar": {
            "outlinewidth": 0,
            "ticks": ""
           }
          },
          "colorscale": {
           "diverging": [
            [
             0,
             "#8e0152"
            ],
            [
             0.1,
             "#c51b7d"
            ],
            [
             0.2,
             "#de77ae"
            ],
            [
             0.3,
             "#f1b6da"
            ],
            [
             0.4,
             "#fde0ef"
            ],
            [
             0.5,
             "#f7f7f7"
            ],
            [
             0.6,
             "#e6f5d0"
            ],
            [
             0.7,
             "#b8e186"
            ],
            [
             0.8,
             "#7fbc41"
            ],
            [
             0.9,
             "#4d9221"
            ],
            [
             1,
             "#276419"
            ]
           ],
           "sequential": [
            [
             0,
             "#0d0887"
            ],
            [
             0.1111111111111111,
             "#46039f"
            ],
            [
             0.2222222222222222,
             "#7201a8"
            ],
            [
             0.3333333333333333,
             "#9c179e"
            ],
            [
             0.4444444444444444,
             "#bd3786"
            ],
            [
             0.5555555555555556,
             "#d8576b"
            ],
            [
             0.6666666666666666,
             "#ed7953"
            ],
            [
             0.7777777777777778,
             "#fb9f3a"
            ],
            [
             0.8888888888888888,
             "#fdca26"
            ],
            [
             1,
             "#f0f921"
            ]
           ],
           "sequentialminus": [
            [
             0,
             "#0d0887"
            ],
            [
             0.1111111111111111,
             "#46039f"
            ],
            [
             0.2222222222222222,
             "#7201a8"
            ],
            [
             0.3333333333333333,
             "#9c179e"
            ],
            [
             0.4444444444444444,
             "#bd3786"
            ],
            [
             0.5555555555555556,
             "#d8576b"
            ],
            [
             0.6666666666666666,
             "#ed7953"
            ],
            [
             0.7777777777777778,
             "#fb9f3a"
            ],
            [
             0.8888888888888888,
             "#fdca26"
            ],
            [
             1,
             "#f0f921"
            ]
           ]
          },
          "colorway": [
           "#636efa",
           "#EF553B",
           "#00cc96",
           "#ab63fa",
           "#FFA15A",
           "#19d3f3",
           "#FF6692",
           "#B6E880",
           "#FF97FF",
           "#FECB52"
          ],
          "font": {
           "color": "#2a3f5f"
          },
          "geo": {
           "bgcolor": "white",
           "lakecolor": "white",
           "landcolor": "#E5ECF6",
           "showlakes": true,
           "showland": true,
           "subunitcolor": "white"
          },
          "hoverlabel": {
           "align": "left"
          },
          "hovermode": "closest",
          "mapbox": {
           "style": "light"
          },
          "paper_bgcolor": "white",
          "plot_bgcolor": "#E5ECF6",
          "polar": {
           "angularaxis": {
            "gridcolor": "white",
            "linecolor": "white",
            "ticks": ""
           },
           "bgcolor": "#E5ECF6",
           "radialaxis": {
            "gridcolor": "white",
            "linecolor": "white",
            "ticks": ""
           }
          },
          "scene": {
           "xaxis": {
            "backgroundcolor": "#E5ECF6",
            "gridcolor": "white",
            "gridwidth": 2,
            "linecolor": "white",
            "showbackground": true,
            "ticks": "",
            "zerolinecolor": "white"
           },
           "yaxis": {
            "backgroundcolor": "#E5ECF6",
            "gridcolor": "white",
            "gridwidth": 2,
            "linecolor": "white",
            "showbackground": true,
            "ticks": "",
            "zerolinecolor": "white"
           },
           "zaxis": {
            "backgroundcolor": "#E5ECF6",
            "gridcolor": "white",
            "gridwidth": 2,
            "linecolor": "white",
            "showbackground": true,
            "ticks": "",
            "zerolinecolor": "white"
           }
          },
          "shapedefaults": {
           "line": {
            "color": "#2a3f5f"
           }
          },
          "ternary": {
           "aaxis": {
            "gridcolor": "white",
            "linecolor": "white",
            "ticks": ""
           },
           "baxis": {
            "gridcolor": "white",
            "linecolor": "white",
            "ticks": ""
           },
           "bgcolor": "#E5ECF6",
           "caxis": {
            "gridcolor": "white",
            "linecolor": "white",
            "ticks": ""
           }
          },
          "title": {
           "x": 0.05
          },
          "xaxis": {
           "automargin": true,
           "gridcolor": "white",
           "linecolor": "white",
           "ticks": "",
           "title": {
            "standoff": 15
           },
           "zerolinecolor": "white",
           "zerolinewidth": 2
          },
          "yaxis": {
           "automargin": true,
           "gridcolor": "white",
           "linecolor": "white",
           "ticks": "",
           "title": {
            "standoff": 15
           },
           "zerolinecolor": "white",
           "zerolinewidth": 2
          }
         }
        },
        "title": {
         "text": "Song Popularity Metrics"
        },
        "xaxis": {
         "anchor": "y",
         "domain": [
          0,
          1
         ],
         "title": {
          "text": "song_name"
         }
        },
        "yaxis": {
         "anchor": "x",
         "domain": [
          0,
          1
         ],
         "title": {
          "text": "streams"
         }
        }
       }
      }
     },
     "metadata": {},
     "output_type": "display_data"
    }
   ],
   "source": [
    "df_Spotify_sort = df_Spotify_2.sort_values(by='streams', ascending=False)\n",
    "fig4 = px.bar(df_Spotify_sort, x='song_name', y='streams', barmode='group', title='Song Popularity Metrics')\n",
    "fig4.show()"
   ]
  },
  {
   "cell_type": "code",
   "execution_count": 153,
   "metadata": {},
   "outputs": [
    {
     "data": {
      "text/plain": [
       "artist(s)_name\n",
       "Taylor Swift             34\n",
       "The Weeknd               22\n",
       "SZA                      19\n",
       "Bad Bunny                19\n",
       "Harry Styles             17\n",
       "                         ..\n",
       "TAEYANG, Lisa             1\n",
       "Lizzy McAlpine            1\n",
       "Ana Castela, AgroPlay     1\n",
       "Mc Livinho, DJ Matt D     1\n",
       "Feid, Sech, Jhayco        1\n",
       "Name: count, Length: 645, dtype: int64"
      ]
     },
     "execution_count": 153,
     "metadata": {},
     "output_type": "execute_result"
    }
   ],
   "source": [
    "artist_counts = df_Spotify['artist(s)_name'].value_counts()\n",
    "artist_counts"
   ]
  },
  {
   "cell_type": "code",
   "execution_count": 154,
   "metadata": {},
   "outputs": [
    {
     "data": {
      "application/vnd.plotly.v1+json": {
       "config": {
        "plotlyServerURL": "https://plot.ly"
       },
       "data": [
        {
         "alignmentgroup": "True",
         "hovertemplate": "artist(s)_name=%{x}<br>in_spotify_charts=%{y}<extra></extra>",
         "legendgroup": "",
         "marker": {
          "color": "#636efa",
          "pattern": {
           "shape": ""
          }
         },
         "name": "",
         "offsetgroup": "",
         "orientation": "v",
         "showlegend": false,
         "textposition": "auto",
         "type": "bar",
         "x": [
          "Latto, Jung Kook",
          "Harry Styles",
          "Miley Cyrus",
          "Olivia Rodrigo",
          "Arctic Monkeys",
          "Billie Eilish",
          "Dua Lipa",
          "Taylor Swift",
          "David Kushner",
          "Dave, Central Cee",
          "The Weeknd, 21 Savage, Metro Boomin",
          "The Weeknd, Madonna, Playboi Carti",
          "Gunna",
          "Tom Odell",
          "Nicki Minaj, Aqua, Ice Spice",
          "Bebe Rexha, David Guetta",
          "The Weeknd, Daft Punk",
          "Troye Sivan",
          "Post Malone, Swae Lee",
          "SZA",
          "Fifty Fifty",
          "Rï¿½ï¿½ma, Selena G",
          "OneRepublic",
          "The Weeknd",
          "ENHYPEN",
          "Jimin",
          "David Guetta, Anne-Marie, Coi Leray",
          "Tyler, The Creator, Kali Uchis",
          "Glass Animals",
          "Coldplay",
          "Eminem",
          "The Neighbourhood",
          "The Weeknd",
          "Peggy Gou",
          "Loreen",
          "Future, Metro Boomin, Don Toliver",
          "Taylor Swift",
          "Libianca",
          "NewJeans",
          "Vance Joy",
          "Lewis Capaldi",
          "Jain",
          "Taylor Swift",
          "Lana Del Rey",
          "Dua Lipa, Elton John, Pnau",
          "Ray Dalton, Ryan Lewis, Macklemore",
          "Bad Bunny",
          "Eslabon Armado, Peso Pluma",
          "Rauw Alejandro, ROSALï¿½",
          "Ayparia, unxbected",
          "Karol G, Shakira",
          "Myke Towers",
          "Calvin Harris, Ellie Goulding",
          "Ariana Grande, The Weeknd",
          "BTS",
          "Lana Del Rey",
          "Travis Scott, Young Thug, Metro Boomin",
          "Lana Del Rey",
          "Bizarrap, Quevedo",
          "Manuel Turizo",
          "Peso Pluma, Yng Lvcas",
          "Marshmello, Manuel Turizo",
          "Imagine Dragons",
          "Shakira, Bizarrap",
          "Central Cee",
          "Lost Frequencies, Calum Scott",
          "Adele",
          "OneRepublic",
          "Eminem",
          "Chencho Corleone, Bad Bunny",
          "Chris Molitor",
          "Quevedo",
          "Taylor Swift",
          "Kali Uchis",
          "Sam Smith, Kim Petras",
          "Bad Bunny",
          "Karol G",
          "PinkPantheress, Ice Spice",
          "Bad Bunny, Grupo Frontera",
          "Feid, Young Miko",
          "Bizarrap, Peso Pluma",
          "Tainy, Bad Bunny",
          "Post Malone",
          "Jung Kook",
          "Karol G",
          "Charlie Puth, BTS, Jung Kook",
          "Taylor Swift",
          "Feid, Myke Towers, Sky Rompiendo",
          "Ozuna, Feid",
          "Yandel, Feid",
          "Bad Bunny, Eladio Carrion",
          "Taiu, Milo j",
          "Feid",
          "Bomba Estï¿½ï¿½reo, Bad B",
          "Don Omar, Lucenzo",
          "Feid, Mora",
          "JVKE",
          "Plan B",
          "Feid",
          "Feid",
          "Post Malone",
          "J. Cole",
          "Justin Bieber, The Kid Laroi",
          "Rauw Alejandro, Bizarrap",
          "NewJeans",
          "Lord Huron",
          "Karol G",
          "Quevedo",
          "Rels B",
          "Chencho Corleone, Rauw Alejandro",
          "Quevedo",
          "Karol G",
          "Avicii",
          "Mambo Kingz, DJ Luian, Anuel Aa",
          "Kanye West",
          "Sean Paul, Feid",
          "Yahritza Y Su Esencia, Grupo Frontera",
          "Peso Pluma, Grupo Frontera",
          "Arcangel, Bad Bunny",
          "Sebastian Yatra, Manuel Turizo, Beï¿½ï",
          "Harry Styles",
          "(G)I-DLE",
          "Feid, Mora, Saiko, Quevedo",
          "Bad Bunny",
          "Karol G, Romeo Santos",
          "ROSALï¿½",
          "Bad Bunny",
          "The Weeknd, Lana Del Rey",
          "Cris Mj",
          "Tory Lanez",
          "Rauw Alejandro, Bizarrap",
          "Kendrick Lamar, Jay Rock",
          "Sog, Ryan Castro, Peso Pluma",
          "Hozier",
          "J Balvin, Bad Bunny",
          "Big One, Duki, Lit Killah, Maria Becerra, FMK, Rusherking, Emilia, Tiago pzk",
          "Em Beihold, Stephen Sanchez",
          "Billie Eilish, Khalid",
          "Frank Ocean",
          "Ed Sheeran",
          "Ed Sheeran",
          "Nengo Flow, Bad Bunny",
          "Brray, Rauw Alejandro, Lyanno",
          "Bad Bunny",
          "Feid",
          "Shakira",
          "Taylor Swift",
          "Arctic Monkeys",
          "Bad Bunny",
          "James Hype, Miggy Dela Rosa",
          "Karol G, Becky G",
          "Bad Bunny",
          "Fuerza Regida",
          "Carin Leon",
          "Sabrina Carpenter",
          "NewJeans",
          "Drake, 21 Savage",
          "Eminem",
          "Arctic Monkeys",
          "Julieta Venegas, Bad Bunny, Tainy",
          "Karol G, Ovy On The Drums",
          "Tiï¿½ï¿½sto, Tate M",
          "Chris Brown",
          "Natanael Cano, Peso Pluma",
          "Carin Leon, Grupo Frontera",
          "Fuerza Regida",
          "Gabito Ballesteros, Junior H, Peso Pluma",
          "Junior H, Peso Pluma",
          "Doechii",
          "SZA",
          "Tears For Fears",
          "Arctic Monkeys",
          "RAYE, 070 Shake",
          "Lewis Capaldi",
          "Drake, WizKid, Kyla",
          "Tini",
          "INTERWORLD",
          "Justin Bieber",
          "Taylor Swift",
          "Peso Pluma",
          "J. Cole, Lil Durk",
          "d4vd",
          "Taylor Swift",
          "Imagine Dragons",
          "Taylor Swift",
          "d4vd",
          "Taylor Swift",
          "Taylor Swift",
          "Fuerza Regida, Grupo Frontera",
          "NewJeans",
          "Nicky Jam, Feid",
          "Quevedo",
          "Bad Bunny, Jhay Cortez",
          "Danny Ocean",
          "The Chainsmokers, Coldplay",
          "Rihanna, Calvin Harris",
          "Eminem",
          "Chino Pacas",
          "Ruth B.",
          "Maria Becerra",
          "Adele",
          "Migrantes, LiL CaKe, Nico Valdi",
          "Kordhell",
          "Central Cee",
          "BTS, Jung Kook, FIFA Sound",
          "Bad Bunny, Jhay Cortez",
          "Daddy Yankee, Bad Bunny",
          "Natanael Cano, Gabito Ballesteros, Peso Pluma",
          "Sech, Bad Bunny, Mora",
          "Jimin",
          "Stray Kids",
          "Miguel",
          "Alec Benjamin",
          "Miley Cyrus",
          "Morgan Wallen",
          "The Police",
          "Jasiel Nuï¿½ï¿½ez, Peso P",
          "Daddy Yankee",
          "Rosa Linn",
          "One Direction",
          "JISOO",
          "Drake, 21 Savage",
          "Grupo Frontera",
          "Yng Lvcas",
          "The Weeknd, Swedish House Mafia",
          "Farruko",
          "NewJeans",
          "Coolio, L.V.",
          "a-ha",
          "Nicky Youre, Dazy",
          "BLACKPINK",
          "Cigarettes After Sex",
          "The Weeknd",
          "Taylor Swift",
          "James Arthur",
          "Christian Nodal",
          "Tini, Maria Becerra",
          "BLACKPINK",
          "Beach Weather",
          "P!nk",
          "Duki, NICKI NICOLE, Cris Mj, Standly, Stars Music Chile",
          "Future, Chris Brown, Metro Boomin",
          "Swae Lee, A Boogie Wit da Hoodie, Metro Boomin, NAV",
          "YOASOBI",
          "A$AP Rocky, Metro Boomin, Roisee",
          "Taylor Swift",
          "Keane",
          "Post Malone",
          "Yuridia, Angela Aguilar",
          "Bad Bunny, Tainy",
          "The Killers",
          "Dean Lewis",
          "Ozuna, Shakira",
          "Myke Towers, Quevedo",
          "The Weeknd, Gesaffelstein",
          "IVE",
          "Taylor Swift",
          "dennis, MC Kevin o Chris",
          "Kodak Black, NLE Choppa, Muni Long, JVKE, Jimin",
          "Mr.Kitty",
          "Drake, Future, Tems",
          "Post Malone, Doja Cat",
          "ThxSoMch",
          "Eminem, Dina Rae",
          "Fujii Kaze",
          "Creedence Clearwater Revival",
          "Hotel Ugly",
          "Oscar Maydon, Junior H",
          "Big One, FMK, Ke personajes",
          "Peso Pluma",
          "New West",
          "BYOR, Imanbek",
          "Lisa",
          "Maldy, Karol G",
          "Coldplay, BTS",
          "Wisin & Yandel, ROSALï¿½",
          "Jimin",
          "TV Girl",
          "Nile Rodgers, LE SSERAFIM",
          "Sia",
          "Lil Uzi Vert",
          "Kaliii, Kaliii",
          "Bruno Mars",
          "Imagine Dragons",
          "The Weeknd",
          "Ed Sheeran",
          "Taylor Swift",
          "Baby Rasta, Rauw Alejandro",
          "Feid",
          "IVE",
          "NewJeans",
          "Burna Boy",
          "Lady Gaga, Bradley Cooper",
          "Bizarrap, Tiago pzk",
          "The Neighbourhood",
          "LE SSERAFIM",
          "Zach Bryan",
          "SEVENTEEN",
          "Cartel De Santa, La Kelly",
          "Agust D",
          "Steve Lacy",
          "Taylor Swift",
          "Luke Combs",
          "Frank Ocean",
          "Lasso",
          "Eden Muï¿½ï",
          "Bad Bunny",
          "Junior H, Peso Pluma",
          "XXXTENTACION",
          "Taylor Swift",
          "Bruno Mars",
          "Karol G, Quevedo",
          "sped up nightcore, ARIZONATEARS, Lil Uzi Vert",
          "BLACKPINK",
          "Prezioso, Gabry Ponte, LUM!X",
          "Maluma",
          "Aventura, Bad Bunny",
          "Calvin Harris, Dua Lipa",
          "Robin Schulz, Oliver Tree",
          "Rï¿½ï",
          "Grupo Marca Registrada, Grupo Frontera",
          "Fifty Fifty",
          "Beyoncï¿",
          "Fuerza Regida, Natanael Cano",
          "Becky G, Peso Pluma",
          "James Arthur",
          "Ed Sheeran",
          "Sebastian Yatra",
          "Jin",
          "Luis R Conriquez, La Adictiva",
          "The Goo Goo Dolls",
          "Troye Sivan",
          "V",
          "Nirvana",
          "Bruno Mars",
          "Shakira, Rauw Alejandro",
          "Morgan Wallen",
          "Feid",
          "TAEYANG, Lisa",
          "Lizzy McAlpine",
          "Ana Castela, AgroPlay",
          "Mc Livinho, DJ Matt D",
          "Ed Sheeran",
          "Duki",
          "Benson Boone",
          "Tony Dize, Bad Bunny",
          "IVE",
          "Avicii",
          "Rauw Alejandro",
          "Dua Lipa, DaBaby",
          "Oxlade",
          "Elley Duhï¿",
          "Harry Styles",
          "Taylor Swift",
          "BLESSD, Peso Pluma",
          "Shubh",
          "Natanael Cano",
          "Mc Pedrinho, DJ 900",
          "Sachin-Jigar, Shadab Faridi, Altamash Faridi, Amitabh Bhattacharya, Varun Jain",
          "Luciano, Aitch, Bï¿½",
          "Kanye West",
          "Hotel Ugly",
          "Bad Bunny, The Marï¿½ï",
          "Labrinth",
          "50 Cent",
          "The Walters",
          "Conan Gray",
          "Steve Lacy",
          "Radiohead",
          "Veigh, Bvga Beatz, Supernova Ent, Prod Malax",
          "Imagine Dragons, League of Legends, JID, Arcane",
          "Drake, Travis Scott",
          "Pritam, Arijit Singh, Amitabh Bhattacharya",
          "The Weeknd",
          "Olivia Rodrigo",
          "Tiï¿½ï¿½sto, Ava",
          "Juan Cruz Toledo, Huilen Toledo",
          "BTS",
          "Adele",
          "Shae Gill, Ali Sethi",
          "Bad Bunny",
          "King",
          "Rex Orange County",
          "Interplanetary Criminal, Eliza Rose",
          "Coldplay",
          "(G)I-DLE",
          "Lizzo",
          "Seafret",
          "Steve Aoki, Tini, La Joaqui",
          "The Weeknd",
          "Fuerza Regida, Peso Pluma",
          "Anggi Marito",
          "Arijit Singh, Sachin-Jigar, Amitabha Bhattacharya",
          "Abhijay Sharma, Riar Saab",
          "Coi Leray",
          "Halsey, Suga",
          "Joji",
          "Taylor Swift",
          "Drake",
          "Meghan Trainor",
          "The Weeknd",
          "Fuerza Regida, Chino Pacas",
          "Morgan Wallen",
          "Kaifi Khalil",
          "SZA",
          "Linkin Park",
          "Israel & Rodolffo, Ana Castela",
          "Taylor Swift",
          "Mï¿½ï¿½ne",
          "Peso Pluma, Luis R Conriquez",
          "LF System",
          "Justin Bieber",
          "Jung Kook",
          "Kendrick Lamar, Baby Keem",
          "BTS",
          "Harry Styles",
          "Linkin Park",
          "Lil Durk, Morgan Wallen",
          "Metro Boomin, Coi Leray",
          "Junior H, Eden Muï¿½ï",
          "Ariana Grande, The Weeknd",
          "Israel & Rodolffo, Mari Fernandez",
          "Simone Mendes",
          "El Chachito, Junior H",
          "SZA, Travis Scott",
          "Matuï¿½ï¿½, Wiu, ",
          "Bad Bunny, Rauw Alejandro",
          "Olivia Rodrigo",
          "The Neighbourhood",
          "Olivia Rodrigo",
          "Giveon",
          "Tini, L-Gante",
          "Marshmello, Jonas Brothers",
          "Intense, AP Dhillon, Gurinder Gill",
          "Camila Cabello, Ed Sheeran",
          "Keisya Levronka",
          "Luciano",
          "Sidhu Moose Wala",
          "Kenshi Yonezu",
          "L7nnon, DJ Biel do Furduncinho, Bianca",
          "Feid",
          "Duki",
          "Grupo Marca Registrada, Junior H",
          "Melody, Ana Castela, Dj Chris No Beat",
          "Lewis Capaldi",
          "Coldplay",
          "MC Ryan SP, Love Funk, Mc Paiva ZS",
          "Maroon 5, Wiz Khalifa",
          "Beach House",
          "Gustavo Mioto, Mari Fernandez",
          "Marï¿½ï¿½lia Mendo",
          "Swae Lee, Lil Wayne, Offset, Metro Boomin",
          "Stephen Sanchez",
          "MC Caverinha, KayBlack",
          "Rich The Kid, Matuï¿",
          "NLE Choppa",
          "Nicki Minaj, Ice Spice",
          "Raim Laode",
          "Quevedo, Jhayco",
          "Jasiel Nuï¿½ï¿½ez, Peso P",
          "Vishal-Shekhar, Shilpa Rao, Caralisa Monteiro, Kumaar, Vishal Dadlani, Shekhar Ravjiani",
          "IU, Agust D",
          "Taylor Swift",
          "Mae Stephens",
          "The Weeknd",
          "Morgan Wallen",
          "Morgan Wallen",
          "Mahalini",
          "Morgan Wallen",
          "Leo Santana",
          "MC Xenon, Os Gemeos da Putaria",
          "Arijit Singh, Vishal Dadlani, Sukriti Kakar, Vishal-Shekhar, Shekhar Ravjiani, Kumaar",
          "Queen",
          "Ed Sheeran",
          "Bad Bunny",
          "Rauw Alejandro",
          "Bad Bunny",
          "Harry Styles",
          "Nengo Flow, Anuel Aa, Chris Jedi, Chencho Corleone",
          "Schï¿½ï¿½rze, DJ R",
          "Dave",
          "Olivia Rodrigo",
          "Playboi Carti",
          "Arcangel, Bizarrap",
          "Semicenk, Doï¿½ï¿½u ",
          "Labrinth",
          "Surf Curse",
          "Sam Smith",
          "Lit Killah, Maria Becerra, Tiago pzk, NICKI NICOLE",
          "The Weeknd, ROSALï¿½",
          "teto",
          "Shawn Mendes, Camila Cabello",
          "Anitta",
          "Tulus",
          "Mc Pedrinho, Pedro Sampaio",
          "Zion & Lennox",
          "Ryan Castro",
          "Ak4:20, Cris Mj, Pailita",
          "Charlie Puth",
          "Mc Vitin Da Igrejinha, MC Tairon, DJ Win",
          "Sech, Mora",
          "HA SUNG WOON, Jimin",
          "Marshmello, Khalid",
          "Luude, Colin Hay",
          "Luar La L",
          "Ghost",
          "Ovy On The Drums, Quevedo",
          "Drake, 21 Savage",
          "Burna Boy",
          "Marï¿½ï¿½lia Mendonï¿½ï¿½a, Hugo & G",
          "Maroon 5",
          "TAEYANG, Jimin",
          "Taylor Swift",
          "Lana Del Rey, Taylor Swift",
          "Zï¿½ï¿½ Neto & Crist",
          "sped up 8282",
          "Kenia OS",
          "j-hope, J. Cole",
          "Niall Horan",
          "Lizzo",
          "BTS",
          "Billie Eilish",
          "SZA",
          "Mabel Matiz, Mert Demir",
          "RM",
          "Ckay",
          "Aitana, zzoilo",
          "Justin Quiles, Lenny Tavï¿½ï¿½rez, BL",
          "Chris Brown, Rvssian, Rauw Alejandro",
          "The Weeknd, Gesaffelstein",
          "NIKI",
          "Bruno Mars",
          "Harry Styles",
          "Kevin Kaarl",
          "Harry Styles",
          "Harry Styles",
          "Harry Styles",
          "Guns N' Roses",
          "Rosa Walton, Hallie Coggins",
          "Bad Bunny",
          "Daddy Yankee, Bad Bunny",
          "Kendrick Lamar",
          "Quevedo, La Pantera, Juseph, Cruz Cafunï¿½ï¿½, Bï¿½ï¿½jo, Abhir Hathi",
          "IVE",
          "Xamï¿½ï¿½, Gustah, Neo B",
          "Mambo Kingz, DJ Luian, Anuel Aa",
          "Harry Styles",
          "James Blake, Metro Boomin",
          "The Chainsmokers, Halsey",
          "Harry Styles",
          "Yahritza Y Su Esencia",
          "Daddy Yankee",
          "Luï¿½ï¿½sa Sonza, MC Frog, Dj Gabriel do Borel, Davi K",
          "Shawn Mendes",
          "Ed Sheeran, J Balvin",
          "Stray Kids",
          "De La Ghetto, Duki, Quevedo",
          "Blackbear, BoyWithUke",
          "Lil Baby",
          "Paulo Londra",
          "Camila Cabello, Willow",
          "Demi Lovato",
          "Doja Cat",
          "Feid, Alejo, Robi",
          "Willow",
          "Lil Tjay",
          "Shawn Mendes",
          "Paulo Londra",
          "Jack Harlow",
          "AnnenMayKantereit, Giant Rooks",
          "Gotye, Kimbra",
          "Pharrell Williams, Nile Rodgers, Daft Punk",
          "Kendrick Lamar",
          "Jordan Fisher, Josh Levi, Finneas O'Connell, 4*TOWN (From Disney and Pixarï¿½ï¿½ï¿½s Turning Red), Topher Ngo, Grayson Vill",
          "BIGBANG",
          "Bad Bunny",
          "Jack Harlow",
          "Bad Bunny",
          "Polima WestCoast, Pailita",
          "Kendrick Lamar, Ghostface Killah, Summer Walker",
          "Bad Bunny",
          "Kendrick Lamar",
          "Kendrick Lamar, Sam Dew, Baby Keem",
          "Kendrick Lamar, Taylour Paige",
          "Buscabulla, Bad Bunny",
          "Kendrick Lamar",
          "Kendrick Lamar, Kodak Black",
          "Bad Bunny",
          "Post Malone, Roddy Ricch",
          "Kendrick Lamar",
          "Bad Bunny",
          "Kendrick Lamar, Sampha",
          "Kendrick Lamar",
          "Bad Bunny",
          "Kendrick Lamar, Blxst, Amanda Reifer",
          "Lizzo",
          "NMIXX",
          "GODZZ__-, Zakaria",
          "C. Tangana",
          "Labrinth",
          "Alvaro Diaz, Rauw Alejandro",
          "Mainstreet, Chefin",
          "Em Beihold",
          "Chase Atlantic",
          "Kendrick Lamar, Tanna Leone",
          "Eminem, Dido",
          "Ryan Castro",
          "Eminem, Dr. Dre",
          "Dr. Dre, 2Pac, Roger",
          "Juice WRLD",
          "The Rare Occasions",
          "YEAT",
          "Labrinth, Zendaya",
          "Yung Lean",
          "Tate McRae",
          "Mahmood, Blanco",
          "Kanye West, Alicia Keys, Fivio Foreign",
          "Charlie Puth",
          "Dr. Dre, Snoop Dogg",
          "Ed Sheeran, Taylor Swift",
          "Dove Cameron",
          "Dr. Dre, Snoop Dogg",
          "Nicki Minaj, Lil Baby",
          "Future",
          "Zï¿½ï¿½ Fe",
          "Muni Long",
          "Olivia Rodrigo",
          "Dua Lipa",
          "XXXTENTACION",
          "Bad Bunny",
          "JVKE",
          "Tyga, Doja Cat",
          "Kevin Gates, Juicy J",
          "Treasure",
          "Jack Harlow",
          "Residente, Bizarrap",
          "Labrinth",
          "Dua Lipa, Megan Thee Stallion",
          "Nirvana",
          "Tyler, The Creator",
          "Eminem, Dr. Dre",
          "Labrinth",
          "Nicki Minaj, Lil Baby",
          "Labrinth",
          "Labrinth",
          "Ed Sheeran",
          "Vundabar",
          "Panic! At The Disco",
          "BTS",
          "PSY, Suga",
          "Sofia Carson",
          "Feid",
          "PnB Rock",
          "Yandel, Feid",
          "YEAT",
          "Steve Lacy",
          "Armani White",
          "TWICE",
          "Elton John, Britney Spears",
          "David Guetta, Shakira, Black Eyed Peas",
          "Calvin Harris, Halsey, Pharrell Williams, Justin Timberlake",
          "Beyoncï¿",
          "De La Ghetto, Feid, Polima WestCoast, Paloma Mami, Pailita",
          "Drake, DJ Khaled, Lil Baby",
          "Snoop Dogg, BTS, Benny Blanco",
          "Nessa Barrett",
          "Anitta, Tini, Becky G",
          "Kanye West, Lil Durk, Cardi B",
          "Drake",
          "Rosa Linn",
          "j-hope",
          "Nayeon",
          "Yung Gravy",
          "Lil Yachty",
          "Marshmello, Juice WRLD",
          "Fran C, Polima WestCoast, Nickoog Clk, Pablito Pesadilla",
          "Southstar",
          "Feid, Paulo Londra",
          "Taylor Swift",
          "Selena Gomez",
          "Taylor Swift",
          "Drake, 21 Savage",
          "Drake",
          "Drake, 21 Savage",
          "Ludwig Goransson, Foudeqush",
          "Taylor Swift",
          "Taylor Swift",
          "Taylor Swift",
          "Drake, 21 Savage",
          "Taylor Swift",
          "Drake, 21 Savage",
          "Taylor Swift",
          "Taylor Swift",
          "Drake, Travis Scott, 21 Savage",
          "Drake, 21 Savage",
          "Lil Baby",
          "Ed Sheeran",
          "girl in red",
          "Drake",
          "Beyoncï¿",
          "Kendrick Lamar",
          "Ugly Dray, Tesla Jnr",
          "Lauren Spencer Smith",
          "Suki Waterhouse",
          "Taylor Swift",
          "Kendrick Lamar",
          "Sam Ryder",
          "Leah Kate",
          "LE SSERAFIM",
          "Chanel",
          "Jessi",
          "Justin Bieber, Don Toliver",
          "MNEK, Jax Jones",
          "Metallica",
          "Kendrick Lamar, Beth Gibbons",
          "Kendrick Lamar",
          "Bizarrap, Paulo Londra",
          "Kendrick Lamar",
          "Future",
          "Kendrick Lamar",
          "Kendrick Lamar",
          "The Kid Laroi",
          "KALUSH",
          "Mï¿½ï¿½ne",
          "BTS",
          "BTS",
          "BTS",
          "Harry Styles",
          "Victor Cibrian",
          "Harry Styles",
          "Joji",
          "David Guetta, Ella Henderson, Becky Hill",
          "Childish Gambino",
          "Ozuna, Tiago pzk",
          "Lady Gaga",
          "Paloma Faith",
          "Sleepy hallow, 347aidan",
          "Harry Styles",
          "Halsey",
          "Harry Styles",
          "Harry Styles",
          "Bizarrap, Villano Antillano",
          "Musical Youth",
          "Kanye West, XXXTENTACION",
          "Harry Styles",
          "Marï¿½ï¿½lia Mendonï¿½ï¿½a, Maiara &",
          "Calvin Harris, Dua Lipa, Young Thug",
          "Pharrell Williams, Tyler, The Creator, 21 Savage",
          "Doja Cat",
          "Anuel Aa, Myke Towers, Jhay Cortez",
          "Tiï¿½ï¿",
          "Katy Perry, Alesso",
          "Andy Williams",
          "John Lennon, The Harlem Community Choir, The Plastic Ono Band, Yoko Ono",
          "SZA",
          "SZA",
          "The Ronettes",
          "Justin Bieber",
          "Michael Bublï¿",
          "Josï¿½ï¿½ Felic",
          "Kelly Clarkson",
          "Sia",
          "Dean Martin",
          "Ariana Grande",
          "Kate Bush",
          "Michael Bublï¿",
          "Bobby Helms",
          "Brenda Lee",
          "Wham!",
          "Mariah Carey",
          "Styrx, utku INC, Thezth",
          "Doja Cat",
          "Omar Apollo",
          "Twisted, Oliver Tree",
          "Freddie Dredd",
          "SZA, Don Toliver",
          "Burl Ives",
          "Nat King Cole",
          "Paul McCartney",
          "SZA",
          "SZA",
          "Nat King Cole",
          "ThxSoMch",
          "Travis Scott, Metro Boomin",
          "SZA",
          "Britney Spears",
          "Perry Como, The Fontane Sisters, Mitchell Ayres & His Orchestra",
          "Ed Sheeran, Elton John",
          "SZA",
          "SZA",
          "SZA",
          "Darlene Love",
          "Chris Rea",
          "Bing Crosby, John Scott Trotter & His Orchestra, Ken Darby Singers",
          "SZA",
          "Frank Sinatra, B. Swanson Quartet",
          "Shakin' Stevens",
          "SZA",
          "SZA, Phoebe Bridgers",
          "Band Aid",
          "Aerosmith",
          "Nicki Minaj",
          "Gunna, Lil Baby",
          "NF",
          "Arijit Singh, Sachin-Jigar",
          "Morgan Wallen",
          "Morgan Wallen",
          "Don Toliver, Future, Justin Bieber",
          "Gorillaz, Bad Bunny",
          "SZA",
          "Jack Black",
          "Mac DeMarco",
          "Melanie Martinez",
          "Kanii, PR1ISVX",
          "Tyler, The Creator",
          "Travis Scott, 21 Savage, Metro Boomin",
          "Tyler, The Creator",
          "RM, Colde",
          "The Weeknd, Future",
          "Ed Sheeran",
          "Offset, JID",
          "WizKid, Toian, Metro Boomin, Don Toliver, Beam",
          "Kendrick Lamar, Beyoncï¿",
          "Taylor Swift, Ice Spice",
          "Future, Lil Uzi Vert, Metro Boomin",
          "Taylor Swift",
          "Morgan Wallen, Eric Church",
          "Nicki Minaj",
          "Lady Gaga",
          "Morgan Wallen",
          "Skrillex, Flowdan, Fred again..",
          "Bellakath",
          "Joji",
          "SZA",
          "DJ Escobar, MC MENOR SG, MC MENOR HR",
          "Jack Harlow, Lil Nas X",
          "Dua Lipa",
          "TOMORROW X TOGETHER",
          "RAYE, 070 Shake",
          "Baby Tate",
          "Halsey, BTS",
          "Lil Nas X",
          "Rihanna",
          "SZA",
          "PinkPantheress",
          "Sam Smith, Calvin Harris, Jessie Reyez",
          "ROSALï¿½",
          "Morgan Wallen",
          "Morgan Wallen",
          "The Kid Laroi",
          "Treyce",
          "Taylor Swift, Lana Del Rey",
          "Taylor Swift",
          "Dj LK da Escï¿½ï¿½cia, Tchakabum, mc jhenny, M",
          "Trueno",
          "Sean Paul, Dua Lipa",
          "TWICE",
          "Marï¿½ï¿½lia Mendonï¿½ï¿½a, George Henrique &",
          "Mï¿½ï¿½ne",
          "Ariana Grande",
          "Olivia Rodrigo",
          "Ed Sheeran, Fireboy DML",
          "Doja Cat",
          "Kanye West",
          "David Kushner",
          "Stephanie Beatriz, Diane Guerrero",
          "Taylor Swift",
          "24kgoldn, Iann Dior",
          "21 Savage, Gunna",
          "Jason Derulo",
          "Sebastian Yatra",
          "The Weeknd",
          "Olga Merediz, Stephanie Beatriz, Encanto - Cast",
          "Edison Lighthouse",
          "Tiï¿½ï¿½sto, Kar",
          "Drake, Project Pat, 21 Savage",
          "Bruno Mars, Anderson .Paak, Silk Sonic",
          "Charli XCX, Jax Jones, Joel Corry, Saweetie",
          "SALES",
          "Sleepy hallow",
          "Billie Eilish",
          "Arcangel, De La Ghetto, Justin Quiles, Lenny Tavï¿½ï¿½rez, Sech, Dalex, Dimelo Flow, Rich Music",
          "Eminem, Nate Dogg",
          "Polo G",
          "Riton, Nightcrawlers, Mufasa & Hypeman, Dopamine",
          "ENHYPEN",
          "Doja Cat",
          "J Balvin, Nio Garcia, Bad Bunny",
          "ENHYPEN",
          "SiM",
          "Duncan Laurence",
          "John Legend",
          "J Balvin, Maria Becerra",
          "Juice WRLD",
          "Tones and I",
          "Imagine Dragons, League of Legends, Arcane",
          "Drake, Future, Young Thug",
          "The Weeknd",
          "Tate McRae",
          "Anuel Aa, Jhay Cortez",
          "Masked Wolf",
          "Billie Eilish",
          "Trueno, Tiago pzk",
          "Jnr Choi",
          "Doja Cat, The Weeknd",
          "Lil Nas X",
          "The Weeknd, Lil Wayne",
          "SZA, Doja Cat",
          "The Weeknd",
          "The Weeknd, Tyler, The Creator",
          "The Weeknd",
          "The Weeknd",
          "Jaymes Young",
          "The Weeknd",
          "The Weeknd",
          "Adassa, Mauro Castillo, Stephanie Beatriz, Encanto - Cast, Rhenzy Feliz, Diane Guerrero, Carolina Gaitan",
          "Cherish, ACRAZE",
          "The Weeknd",
          "Lauren Spencer Smith, Lauren Spencer Smith, Lauren Spencer Smith",
          "The Weeknd",
          "Gayle",
          "John Legend, Metro Boomin",
          "SZA",
          "Frank Sinatra",
          "Chuck Berry",
          "SZA",
          "Gwen Stefani, Blake Shelton",
          "Doja Cat",
          "The Weeknd",
          "Young Thug, Future, Gunna",
          "Jessica Darrow",
          "Kali Uchis, Amaarae, Moliy",
          "Oliver Tree",
          "NEIKED, Mae Muller, Polo G",
          "Stromae",
          "Justin Bieber, Daniel Caesar, Giveon",
          "The Weeknd",
          "THE ANXIETY, Willow, Tyler Cole",
          "Bruno Mars, Anderson .Paak, Silk Sonic",
          "Ckay, AX'EL, Dj Yo!",
          "Kodak Black",
          "Shawn Mendes",
          "Emmy Meli",
          "The Weeknd",
          "Adele",
          "The Weeknd",
          "BoyWithUke",
          "Billie Eilish",
          "Mï¿½ï¿½ne",
          "The Weeknd, Post Malone",
          "Lil Nas X",
          "The Weeknd",
          "Feid, Sech, Jhayco"
         ],
         "xaxis": "x",
         "y": [
          147,
          130,
          115,
          113,
          110,
          104,
          101,
          100,
          98,
          91,
          88,
          87,
          83,
          83,
          80,
          80,
          79,
          78,
          78,
          77,
          77,
          77,
          76,
          69,
          69,
          68,
          66,
          64,
          63,
          62,
          61,
          61,
          59,
          59,
          59,
          58,
          56,
          56,
          55,
          55,
          53,
          53,
          53,
          52,
          52,
          52,
          50,
          50,
          50,
          50,
          49,
          48,
          48,
          47,
          47,
          46,
          46,
          46,
          45,
          45,
          44,
          44,
          44,
          44,
          44,
          44,
          43,
          43,
          43,
          43,
          43,
          43,
          42,
          42,
          42,
          42,
          41,
          41,
          40,
          40,
          40,
          40,
          39,
          39,
          39,
          39,
          38,
          38,
          38,
          38,
          38,
          38,
          38,
          38,
          37,
          37,
          36,
          36,
          36,
          36,
          36,
          36,
          36,
          35,
          35,
          35,
          35,
          35,
          35,
          34,
          34,
          34,
          34,
          34,
          34,
          34,
          34,
          34,
          34,
          34,
          34,
          33,
          33,
          33,
          33,
          33,
          33,
          32,
          32,
          32,
          32,
          32,
          31,
          31,
          31,
          31,
          30,
          30,
          30,
          30,
          30,
          30,
          30,
          30,
          30,
          29,
          29,
          29,
          28,
          28,
          28,
          28,
          28,
          27,
          27,
          27,
          27,
          27,
          26,
          26,
          26,
          26,
          26,
          26,
          26,
          26,
          26,
          25,
          25,
          25,
          25,
          25,
          25,
          24,
          24,
          24,
          24,
          24,
          24,
          24,
          23,
          23,
          23,
          23,
          23,
          23,
          23,
          22,
          22,
          22,
          22,
          22,
          21,
          21,
          21,
          21,
          21,
          21,
          21,
          20,
          20,
          20,
          20,
          20,
          20,
          20,
          20,
          19,
          19,
          19,
          19,
          19,
          19,
          19,
          19,
          19,
          18,
          18,
          18,
          18,
          18,
          18,
          18,
          17,
          17,
          17,
          17,
          17,
          17,
          17,
          17,
          17,
          17,
          17,
          16,
          16,
          16,
          16,
          16,
          16,
          16,
          16,
          16,
          16,
          16,
          16,
          16,
          16,
          15,
          15,
          15,
          15,
          15,
          15,
          15,
          15,
          15,
          15,
          14,
          14,
          14,
          14,
          14,
          14,
          14,
          14,
          14,
          14,
          14,
          14,
          14,
          13,
          13,
          13,
          13,
          13,
          13,
          13,
          13,
          13,
          13,
          13,
          13,
          13,
          13,
          13,
          13,
          12,
          12,
          12,
          12,
          12,
          12,
          12,
          12,
          12,
          12,
          12,
          12,
          12,
          12,
          12,
          12,
          11,
          11,
          11,
          11,
          11,
          11,
          11,
          11,
          11,
          10,
          10,
          10,
          10,
          10,
          10,
          10,
          10,
          10,
          10,
          10,
          10,
          10,
          10,
          10,
          9,
          9,
          9,
          9,
          9,
          9,
          9,
          9,
          9,
          9,
          9,
          9,
          9,
          9,
          9,
          8,
          8,
          8,
          8,
          8,
          8,
          8,
          8,
          8,
          8,
          8,
          8,
          8,
          8,
          8,
          8,
          8,
          7,
          7,
          7,
          7,
          7,
          7,
          7,
          7,
          7,
          7,
          7,
          7,
          6,
          6,
          6,
          6,
          6,
          6,
          6,
          6,
          6,
          6,
          6,
          6,
          6,
          6,
          6,
          6,
          6,
          6,
          6,
          6,
          6,
          6,
          6,
          6,
          6,
          6,
          6,
          6,
          6,
          6,
          6,
          6,
          6,
          6,
          6,
          6,
          5,
          5,
          5,
          5,
          5,
          5,
          5,
          5,
          5,
          5,
          5,
          5,
          5,
          5,
          5,
          5,
          5,
          4,
          4,
          4,
          4,
          4,
          4,
          4,
          4,
          4,
          4,
          4,
          4,
          4,
          4,
          4,
          4,
          4,
          4,
          4,
          4,
          4,
          4,
          4,
          4,
          4,
          4,
          4,
          4,
          4,
          4,
          4,
          4,
          4,
          4,
          4,
          4,
          4,
          4,
          4,
          4,
          4,
          4,
          4,
          4,
          4,
          4,
          4,
          4,
          3,
          3,
          3,
          3,
          3,
          3,
          3,
          3,
          3,
          3,
          3,
          3,
          3,
          3,
          3,
          3,
          3,
          3,
          2,
          2,
          2,
          2,
          2,
          2,
          2,
          2,
          2,
          2,
          2,
          2,
          2,
          2,
          2,
          2,
          2,
          2,
          2,
          2,
          2,
          2,
          2,
          2,
          2,
          2,
          2,
          2,
          2,
          2,
          2,
          2,
          2,
          2,
          2,
          2,
          2,
          2,
          2,
          2,
          2,
          2,
          1,
          1,
          1,
          1,
          1,
          1,
          1,
          1,
          1,
          1,
          1,
          1,
          1,
          1,
          1,
          1,
          0,
          0,
          0,
          0,
          0,
          0,
          0,
          0,
          0,
          0,
          0,
          0,
          0,
          0,
          0,
          0,
          0,
          0,
          0,
          0,
          0,
          0,
          0,
          0,
          0,
          0,
          0,
          0,
          0,
          0,
          0,
          0,
          0,
          0,
          0,
          0,
          0,
          0,
          0,
          0,
          0,
          0,
          0,
          0,
          0,
          0,
          0,
          0,
          0,
          0,
          0,
          0,
          0,
          0,
          0,
          0,
          0,
          0,
          0,
          0,
          0,
          0,
          0,
          0,
          0,
          0,
          0,
          0,
          0,
          0,
          0,
          0,
          0,
          0,
          0,
          0,
          0,
          0,
          0,
          0,
          0,
          0,
          0,
          0,
          0,
          0,
          0,
          0,
          0,
          0,
          0,
          0,
          0,
          0,
          0,
          0,
          0,
          0,
          0,
          0,
          0,
          0,
          0,
          0,
          0,
          0,
          0,
          0,
          0,
          0,
          0,
          0,
          0,
          0,
          0,
          0,
          0,
          0,
          0,
          0,
          0,
          0,
          0,
          0,
          0,
          0,
          0,
          0,
          0,
          0,
          0,
          0,
          0,
          0,
          0,
          0,
          0,
          0,
          0,
          0,
          0,
          0,
          0,
          0,
          0,
          0,
          0,
          0,
          0,
          0,
          0,
          0,
          0,
          0,
          0,
          0,
          0,
          0,
          0,
          0,
          0,
          0,
          0,
          0,
          0,
          0,
          0,
          0,
          0,
          0,
          0,
          0,
          0,
          0,
          0,
          0,
          0,
          0,
          0,
          0,
          0,
          0,
          0,
          0,
          0,
          0,
          0,
          0,
          0,
          0,
          0,
          0,
          0,
          0,
          0,
          0,
          0,
          0,
          0,
          0,
          0,
          0,
          0,
          0,
          0,
          0,
          0,
          0,
          0,
          0,
          0,
          0,
          0,
          0,
          0,
          0,
          0,
          0,
          0,
          0,
          0,
          0,
          0,
          0,
          0,
          0,
          0,
          0,
          0,
          0,
          0,
          0,
          0,
          0,
          0,
          0,
          0,
          0,
          0,
          0,
          0,
          0,
          0,
          0,
          0,
          0,
          0,
          0,
          0,
          0,
          0,
          0,
          0,
          0,
          0,
          0,
          0,
          0,
          0,
          0,
          0,
          0,
          0,
          0,
          0,
          0,
          0,
          0,
          0,
          0,
          0,
          0,
          0,
          0,
          0,
          0,
          0,
          0,
          0,
          0,
          0,
          0,
          0,
          0,
          0,
          0,
          0,
          0,
          0,
          0,
          0,
          0,
          0,
          0,
          0,
          0,
          0,
          0,
          0,
          0,
          0,
          0,
          0,
          0,
          0,
          0,
          0,
          0,
          0,
          0,
          0,
          0,
          0,
          0,
          0,
          0,
          0,
          0,
          0,
          0,
          0,
          0,
          0,
          0,
          0,
          0,
          0,
          0,
          0,
          0,
          0,
          0,
          0,
          0,
          0,
          0,
          0,
          0,
          0,
          0,
          0,
          0,
          0,
          0,
          0,
          0,
          0,
          0,
          0,
          0,
          0,
          0,
          0,
          0,
          0,
          0,
          0,
          0,
          0,
          0,
          0,
          0,
          0,
          0,
          0,
          0,
          0,
          0,
          0,
          0,
          0,
          0,
          0,
          0,
          0,
          0,
          0,
          0,
          0,
          0,
          0,
          0,
          0,
          0,
          0,
          0,
          0,
          0,
          0,
          0,
          0,
          0,
          0,
          0,
          0,
          0,
          0,
          0,
          0,
          0,
          0,
          0,
          0,
          0,
          0
         ],
         "yaxis": "y"
        }
       ],
       "layout": {
        "barmode": "group",
        "legend": {
         "tracegroupgap": 0
        },
        "template": {
         "data": {
          "bar": [
           {
            "error_x": {
             "color": "#2a3f5f"
            },
            "error_y": {
             "color": "#2a3f5f"
            },
            "marker": {
             "line": {
              "color": "#E5ECF6",
              "width": 0.5
             },
             "pattern": {
              "fillmode": "overlay",
              "size": 10,
              "solidity": 0.2
             }
            },
            "type": "bar"
           }
          ],
          "barpolar": [
           {
            "marker": {
             "line": {
              "color": "#E5ECF6",
              "width": 0.5
             },
             "pattern": {
              "fillmode": "overlay",
              "size": 10,
              "solidity": 0.2
             }
            },
            "type": "barpolar"
           }
          ],
          "carpet": [
           {
            "aaxis": {
             "endlinecolor": "#2a3f5f",
             "gridcolor": "white",
             "linecolor": "white",
             "minorgridcolor": "white",
             "startlinecolor": "#2a3f5f"
            },
            "baxis": {
             "endlinecolor": "#2a3f5f",
             "gridcolor": "white",
             "linecolor": "white",
             "minorgridcolor": "white",
             "startlinecolor": "#2a3f5f"
            },
            "type": "carpet"
           }
          ],
          "choropleth": [
           {
            "colorbar": {
             "outlinewidth": 0,
             "ticks": ""
            },
            "type": "choropleth"
           }
          ],
          "contour": [
           {
            "colorbar": {
             "outlinewidth": 0,
             "ticks": ""
            },
            "colorscale": [
             [
              0,
              "#0d0887"
             ],
             [
              0.1111111111111111,
              "#46039f"
             ],
             [
              0.2222222222222222,
              "#7201a8"
             ],
             [
              0.3333333333333333,
              "#9c179e"
             ],
             [
              0.4444444444444444,
              "#bd3786"
             ],
             [
              0.5555555555555556,
              "#d8576b"
             ],
             [
              0.6666666666666666,
              "#ed7953"
             ],
             [
              0.7777777777777778,
              "#fb9f3a"
             ],
             [
              0.8888888888888888,
              "#fdca26"
             ],
             [
              1,
              "#f0f921"
             ]
            ],
            "type": "contour"
           }
          ],
          "contourcarpet": [
           {
            "colorbar": {
             "outlinewidth": 0,
             "ticks": ""
            },
            "type": "contourcarpet"
           }
          ],
          "heatmap": [
           {
            "colorbar": {
             "outlinewidth": 0,
             "ticks": ""
            },
            "colorscale": [
             [
              0,
              "#0d0887"
             ],
             [
              0.1111111111111111,
              "#46039f"
             ],
             [
              0.2222222222222222,
              "#7201a8"
             ],
             [
              0.3333333333333333,
              "#9c179e"
             ],
             [
              0.4444444444444444,
              "#bd3786"
             ],
             [
              0.5555555555555556,
              "#d8576b"
             ],
             [
              0.6666666666666666,
              "#ed7953"
             ],
             [
              0.7777777777777778,
              "#fb9f3a"
             ],
             [
              0.8888888888888888,
              "#fdca26"
             ],
             [
              1,
              "#f0f921"
             ]
            ],
            "type": "heatmap"
           }
          ],
          "heatmapgl": [
           {
            "colorbar": {
             "outlinewidth": 0,
             "ticks": ""
            },
            "colorscale": [
             [
              0,
              "#0d0887"
             ],
             [
              0.1111111111111111,
              "#46039f"
             ],
             [
              0.2222222222222222,
              "#7201a8"
             ],
             [
              0.3333333333333333,
              "#9c179e"
             ],
             [
              0.4444444444444444,
              "#bd3786"
             ],
             [
              0.5555555555555556,
              "#d8576b"
             ],
             [
              0.6666666666666666,
              "#ed7953"
             ],
             [
              0.7777777777777778,
              "#fb9f3a"
             ],
             [
              0.8888888888888888,
              "#fdca26"
             ],
             [
              1,
              "#f0f921"
             ]
            ],
            "type": "heatmapgl"
           }
          ],
          "histogram": [
           {
            "marker": {
             "pattern": {
              "fillmode": "overlay",
              "size": 10,
              "solidity": 0.2
             }
            },
            "type": "histogram"
           }
          ],
          "histogram2d": [
           {
            "colorbar": {
             "outlinewidth": 0,
             "ticks": ""
            },
            "colorscale": [
             [
              0,
              "#0d0887"
             ],
             [
              0.1111111111111111,
              "#46039f"
             ],
             [
              0.2222222222222222,
              "#7201a8"
             ],
             [
              0.3333333333333333,
              "#9c179e"
             ],
             [
              0.4444444444444444,
              "#bd3786"
             ],
             [
              0.5555555555555556,
              "#d8576b"
             ],
             [
              0.6666666666666666,
              "#ed7953"
             ],
             [
              0.7777777777777778,
              "#fb9f3a"
             ],
             [
              0.8888888888888888,
              "#fdca26"
             ],
             [
              1,
              "#f0f921"
             ]
            ],
            "type": "histogram2d"
           }
          ],
          "histogram2dcontour": [
           {
            "colorbar": {
             "outlinewidth": 0,
             "ticks": ""
            },
            "colorscale": [
             [
              0,
              "#0d0887"
             ],
             [
              0.1111111111111111,
              "#46039f"
             ],
             [
              0.2222222222222222,
              "#7201a8"
             ],
             [
              0.3333333333333333,
              "#9c179e"
             ],
             [
              0.4444444444444444,
              "#bd3786"
             ],
             [
              0.5555555555555556,
              "#d8576b"
             ],
             [
              0.6666666666666666,
              "#ed7953"
             ],
             [
              0.7777777777777778,
              "#fb9f3a"
             ],
             [
              0.8888888888888888,
              "#fdca26"
             ],
             [
              1,
              "#f0f921"
             ]
            ],
            "type": "histogram2dcontour"
           }
          ],
          "mesh3d": [
           {
            "colorbar": {
             "outlinewidth": 0,
             "ticks": ""
            },
            "type": "mesh3d"
           }
          ],
          "parcoords": [
           {
            "line": {
             "colorbar": {
              "outlinewidth": 0,
              "ticks": ""
             }
            },
            "type": "parcoords"
           }
          ],
          "pie": [
           {
            "automargin": true,
            "type": "pie"
           }
          ],
          "scatter": [
           {
            "fillpattern": {
             "fillmode": "overlay",
             "size": 10,
             "solidity": 0.2
            },
            "type": "scatter"
           }
          ],
          "scatter3d": [
           {
            "line": {
             "colorbar": {
              "outlinewidth": 0,
              "ticks": ""
             }
            },
            "marker": {
             "colorbar": {
              "outlinewidth": 0,
              "ticks": ""
             }
            },
            "type": "scatter3d"
           }
          ],
          "scattercarpet": [
           {
            "marker": {
             "colorbar": {
              "outlinewidth": 0,
              "ticks": ""
             }
            },
            "type": "scattercarpet"
           }
          ],
          "scattergeo": [
           {
            "marker": {
             "colorbar": {
              "outlinewidth": 0,
              "ticks": ""
             }
            },
            "type": "scattergeo"
           }
          ],
          "scattergl": [
           {
            "marker": {
             "colorbar": {
              "outlinewidth": 0,
              "ticks": ""
             }
            },
            "type": "scattergl"
           }
          ],
          "scattermapbox": [
           {
            "marker": {
             "colorbar": {
              "outlinewidth": 0,
              "ticks": ""
             }
            },
            "type": "scattermapbox"
           }
          ],
          "scatterpolar": [
           {
            "marker": {
             "colorbar": {
              "outlinewidth": 0,
              "ticks": ""
             }
            },
            "type": "scatterpolar"
           }
          ],
          "scatterpolargl": [
           {
            "marker": {
             "colorbar": {
              "outlinewidth": 0,
              "ticks": ""
             }
            },
            "type": "scatterpolargl"
           }
          ],
          "scatterternary": [
           {
            "marker": {
             "colorbar": {
              "outlinewidth": 0,
              "ticks": ""
             }
            },
            "type": "scatterternary"
           }
          ],
          "surface": [
           {
            "colorbar": {
             "outlinewidth": 0,
             "ticks": ""
            },
            "colorscale": [
             [
              0,
              "#0d0887"
             ],
             [
              0.1111111111111111,
              "#46039f"
             ],
             [
              0.2222222222222222,
              "#7201a8"
             ],
             [
              0.3333333333333333,
              "#9c179e"
             ],
             [
              0.4444444444444444,
              "#bd3786"
             ],
             [
              0.5555555555555556,
              "#d8576b"
             ],
             [
              0.6666666666666666,
              "#ed7953"
             ],
             [
              0.7777777777777778,
              "#fb9f3a"
             ],
             [
              0.8888888888888888,
              "#fdca26"
             ],
             [
              1,
              "#f0f921"
             ]
            ],
            "type": "surface"
           }
          ],
          "table": [
           {
            "cells": {
             "fill": {
              "color": "#EBF0F8"
             },
             "line": {
              "color": "white"
             }
            },
            "header": {
             "fill": {
              "color": "#C8D4E3"
             },
             "line": {
              "color": "white"
             }
            },
            "type": "table"
           }
          ]
         },
         "layout": {
          "annotationdefaults": {
           "arrowcolor": "#2a3f5f",
           "arrowhead": 0,
           "arrowwidth": 1
          },
          "autotypenumbers": "strict",
          "coloraxis": {
           "colorbar": {
            "outlinewidth": 0,
            "ticks": ""
           }
          },
          "colorscale": {
           "diverging": [
            [
             0,
             "#8e0152"
            ],
            [
             0.1,
             "#c51b7d"
            ],
            [
             0.2,
             "#de77ae"
            ],
            [
             0.3,
             "#f1b6da"
            ],
            [
             0.4,
             "#fde0ef"
            ],
            [
             0.5,
             "#f7f7f7"
            ],
            [
             0.6,
             "#e6f5d0"
            ],
            [
             0.7,
             "#b8e186"
            ],
            [
             0.8,
             "#7fbc41"
            ],
            [
             0.9,
             "#4d9221"
            ],
            [
             1,
             "#276419"
            ]
           ],
           "sequential": [
            [
             0,
             "#0d0887"
            ],
            [
             0.1111111111111111,
             "#46039f"
            ],
            [
             0.2222222222222222,
             "#7201a8"
            ],
            [
             0.3333333333333333,
             "#9c179e"
            ],
            [
             0.4444444444444444,
             "#bd3786"
            ],
            [
             0.5555555555555556,
             "#d8576b"
            ],
            [
             0.6666666666666666,
             "#ed7953"
            ],
            [
             0.7777777777777778,
             "#fb9f3a"
            ],
            [
             0.8888888888888888,
             "#fdca26"
            ],
            [
             1,
             "#f0f921"
            ]
           ],
           "sequentialminus": [
            [
             0,
             "#0d0887"
            ],
            [
             0.1111111111111111,
             "#46039f"
            ],
            [
             0.2222222222222222,
             "#7201a8"
            ],
            [
             0.3333333333333333,
             "#9c179e"
            ],
            [
             0.4444444444444444,
             "#bd3786"
            ],
            [
             0.5555555555555556,
             "#d8576b"
            ],
            [
             0.6666666666666666,
             "#ed7953"
            ],
            [
             0.7777777777777778,
             "#fb9f3a"
            ],
            [
             0.8888888888888888,
             "#fdca26"
            ],
            [
             1,
             "#f0f921"
            ]
           ]
          },
          "colorway": [
           "#636efa",
           "#EF553B",
           "#00cc96",
           "#ab63fa",
           "#FFA15A",
           "#19d3f3",
           "#FF6692",
           "#B6E880",
           "#FF97FF",
           "#FECB52"
          ],
          "font": {
           "color": "#2a3f5f"
          },
          "geo": {
           "bgcolor": "white",
           "lakecolor": "white",
           "landcolor": "#E5ECF6",
           "showlakes": true,
           "showland": true,
           "subunitcolor": "white"
          },
          "hoverlabel": {
           "align": "left"
          },
          "hovermode": "closest",
          "mapbox": {
           "style": "light"
          },
          "paper_bgcolor": "white",
          "plot_bgcolor": "#E5ECF6",
          "polar": {
           "angularaxis": {
            "gridcolor": "white",
            "linecolor": "white",
            "ticks": ""
           },
           "bgcolor": "#E5ECF6",
           "radialaxis": {
            "gridcolor": "white",
            "linecolor": "white",
            "ticks": ""
           }
          },
          "scene": {
           "xaxis": {
            "backgroundcolor": "#E5ECF6",
            "gridcolor": "white",
            "gridwidth": 2,
            "linecolor": "white",
            "showbackground": true,
            "ticks": "",
            "zerolinecolor": "white"
           },
           "yaxis": {
            "backgroundcolor": "#E5ECF6",
            "gridcolor": "white",
            "gridwidth": 2,
            "linecolor": "white",
            "showbackground": true,
            "ticks": "",
            "zerolinecolor": "white"
           },
           "zaxis": {
            "backgroundcolor": "#E5ECF6",
            "gridcolor": "white",
            "gridwidth": 2,
            "linecolor": "white",
            "showbackground": true,
            "ticks": "",
            "zerolinecolor": "white"
           }
          },
          "shapedefaults": {
           "line": {
            "color": "#2a3f5f"
           }
          },
          "ternary": {
           "aaxis": {
            "gridcolor": "white",
            "linecolor": "white",
            "ticks": ""
           },
           "baxis": {
            "gridcolor": "white",
            "linecolor": "white",
            "ticks": ""
           },
           "bgcolor": "#E5ECF6",
           "caxis": {
            "gridcolor": "white",
            "linecolor": "white",
            "ticks": ""
           }
          },
          "title": {
           "x": 0.05
          },
          "xaxis": {
           "automargin": true,
           "gridcolor": "white",
           "linecolor": "white",
           "ticks": "",
           "title": {
            "standoff": 15
           },
           "zerolinecolor": "white",
           "zerolinewidth": 2
          },
          "yaxis": {
           "automargin": true,
           "gridcolor": "white",
           "linecolor": "white",
           "ticks": "",
           "title": {
            "standoff": 15
           },
           "zerolinecolor": "white",
           "zerolinewidth": 2
          }
         }
        },
        "title": {
         "text": "Artist Popularity (Number of Days in Spotify Charts)"
        },
        "xaxis": {
         "anchor": "y",
         "domain": [
          0,
          1
         ],
         "title": {
          "text": "artist(s)_name"
         }
        },
        "yaxis": {
         "anchor": "x",
         "domain": [
          0,
          1
         ],
         "title": {
          "text": "in_spotify_charts"
         }
        }
       }
      }
     },
     "metadata": {},
     "output_type": "display_data"
    }
   ],
   "source": [
    "df_Spotify_sort = df_Spotify.sort_values(by='in_spotify_charts', ascending=False)\n",
    "fig5 = px.bar(df_Spotify_sort, x='artist(s)_name', y='in_spotify_charts', barmode='group', title='Artist Popularity (Number of Days in Spotify Charts)')\n",
    "fig5.show()"
   ]
  },
  {
   "cell_type": "code",
   "execution_count": null,
   "metadata": {},
   "outputs": [],
   "source": [
    "df_Spotify_2.dtypes"
   ]
  },
  {
   "cell_type": "code",
   "execution_count": null,
   "metadata": {},
   "outputs": [],
   "source": [
    "df_streaming_charts.dtypes"
   ]
  },
  {
   "cell_type": "code",
   "execution_count": 128,
   "metadata": {},
   "outputs": [],
   "source": [
    "# fig2 = px.bar(df_streaming_charts, x='song_name', barmode='group', title='Song Popularity Metrics')\n",
    "# # Update the layout to add dropdown menu for switching between different criteria\n",
    "# fig.update_layout(\n",
    "#     yaxis = {'title':'score'},\n",
    "#     updatemenus=[\n",
    "#         {\n",
    "#             'buttons': [\n",
    "#                 {\n",
    "#                     'label': 'Spotify',\n",
    "#                     'method': 'update',\n",
    "#                     'args': [{'y': [df_streaming_charts['in_spotify_charts']],'x': [df_streaming_charts['song_name']]}]\n",
    "#                 },\n",
    "#                 {\n",
    "#                     'label': 'Apple',\n",
    "#                     'method': 'update',\n",
    "#                     #'args': [{'y': [df_streaming_charts['in_apple_charts']], 'x': [df_streaming_charts['song_name']], 'title': 'in_apple_charts'}]\n",
    "#                 },\n",
    "#                 {\n",
    "#                     'label': 'Deezer',\n",
    "#                     'method': 'update',\n",
    "#                     #'args': [{'y': [df_streaming_charts['in_deezer_charts']], 'x': [df_streaming_charts['song_name']], 'title': 'in_deezer_charts'}]\n",
    "#                 },\n",
    "#                 {\n",
    "#                     'label': 'Shazam',\n",
    "#                     'method': 'update',\n",
    "#                     #'args': [{'y': [df_streaming_charts['in_shazam_charts']], 'x': [df_streaming_charts['song_name']], 'title': 'in_shazam_charts'}]\n",
    "#                 }\n",
    "#             ]\n",
    "#         }\n",
    "#     ]\n",
    "# )\n",
    "# #fig2.show()"
   ]
  },
  {
   "cell_type": "code",
   "execution_count": 20,
   "metadata": {},
   "outputs": [],
   "source": [
    "#x_axis = np.arange(len(df_Spotify1))\n",
    "#tick_locations = [value for value in x_axis]\n",
    "#plt.bar(x_axis, df_Spotify1[\"artist(s)_name\"], color='r', alpha=0.5, align=\"center\")\n",
    "#plt.xticks(tick_locations, df_Spotify1[\"in_spotify_playlists\"], rotation=\"vertical\")\n",
    "#plt.show()"
   ]
  },
  {
   "cell_type": "code",
   "execution_count": 84,
   "metadata": {},
   "outputs": [],
   "source": [
    "fig.write_html('fig.html')"
   ]
  },
  {
   "cell_type": "code",
   "execution_count": null,
   "metadata": {},
   "outputs": [],
   "source": [
    "fig4.write_html('fig4.html')"
   ]
  },
  {
   "cell_type": "code",
   "execution_count": null,
   "metadata": {},
   "outputs": [],
   "source": [
    "fig5.write_html('fig5.html')"
   ]
  }
 ],
 "metadata": {
  "kernelspec": {
   "display_name": "Python 3",
   "language": "python",
   "name": "python3"
  },
  "language_info": {
   "codemirror_mode": {
    "name": "ipython",
    "version": 3
   },
   "file_extension": ".py",
   "mimetype": "text/x-python",
   "name": "python",
   "nbconvert_exporter": "python",
   "pygments_lexer": "ipython3",
   "version": "3.11.7"
  }
 },
 "nbformat": 4,
 "nbformat_minor": 2
}
